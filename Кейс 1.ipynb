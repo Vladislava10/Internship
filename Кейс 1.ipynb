{
 "cells": [
  {
   "cell_type": "code",
   "execution_count": 1,
   "id": "8163ea4b",
   "metadata": {},
   "outputs": [],
   "source": [
    "import pandas as pd"
   ]
  },
  {
   "cell_type": "code",
   "execution_count": 2,
   "id": "76d58516",
   "metadata": {},
   "outputs": [],
   "source": [
    "#Данные о доставке\n",
    "Delivery = pd.read_excel(\"ДОСТАВКА.xlsx\", sheet_name = 0, header = 1)"
   ]
  },
  {
   "cell_type": "code",
   "execution_count": 3,
   "id": "8d41f07f",
   "metadata": {},
   "outputs": [
    {
     "data": {
      "text/html": [
       "<div>\n",
       "<style scoped>\n",
       "    .dataframe tbody tr th:only-of-type {\n",
       "        vertical-align: middle;\n",
       "    }\n",
       "\n",
       "    .dataframe tbody tr th {\n",
       "        vertical-align: top;\n",
       "    }\n",
       "\n",
       "    .dataframe thead th {\n",
       "        text-align: right;\n",
       "    }\n",
       "</style>\n",
       "<table border=\"1\" class=\"dataframe\">\n",
       "  <thead>\n",
       "    <tr style=\"text-align: right;\">\n",
       "      <th></th>\n",
       "      <th>Путь, км</th>\n",
       "      <th>Масса груза, кг</th>\n",
       "      <th>Терминал отгрузки</th>\n",
       "      <th>Категория груза</th>\n",
       "      <th>Гос номер</th>\n",
       "    </tr>\n",
       "  </thead>\n",
       "  <tbody>\n",
       "    <tr>\n",
       "      <th>0</th>\n",
       "      <td>67</td>\n",
       "      <td>2655</td>\n",
       "      <td>Восток</td>\n",
       "      <td>Категория K</td>\n",
       "      <td>е954аа97</td>\n",
       "    </tr>\n",
       "    <tr>\n",
       "      <th>1</th>\n",
       "      <td>70</td>\n",
       "      <td>2961</td>\n",
       "      <td>Восток</td>\n",
       "      <td>Категория C</td>\n",
       "      <td>о625ам90</td>\n",
       "    </tr>\n",
       "    <tr>\n",
       "      <th>2</th>\n",
       "      <td>37</td>\n",
       "      <td>2546</td>\n",
       "      <td>Юг</td>\n",
       "      <td>Категория K</td>\n",
       "      <td>в484ве550</td>\n",
       "    </tr>\n",
       "    <tr>\n",
       "      <th>3</th>\n",
       "      <td>95</td>\n",
       "      <td>399</td>\n",
       "      <td>Север</td>\n",
       "      <td>Категория C</td>\n",
       "      <td>р449ее190</td>\n",
       "    </tr>\n",
       "    <tr>\n",
       "      <th>4</th>\n",
       "      <td>121</td>\n",
       "      <td>1219</td>\n",
       "      <td>Восток</td>\n",
       "      <td>Категория C</td>\n",
       "      <td>а522нс177</td>\n",
       "    </tr>\n",
       "  </tbody>\n",
       "</table>\n",
       "</div>"
      ],
      "text/plain": [
       "   Путь, км  Масса груза, кг Терминал отгрузки Категория груза  Гос номер\n",
       "0        67             2655            Восток     Категория K   е954аа97\n",
       "1        70             2961            Восток     Категория C   о625ам90\n",
       "2        37             2546                Юг     Категория K  в484ве550\n",
       "3        95              399             Север     Категория C  р449ее190\n",
       "4       121             1219            Восток     Категория C  а522нс177"
      ]
     },
     "execution_count": 3,
     "metadata": {},
     "output_type": "execute_result"
    }
   ],
   "source": [
    "Delivery.head()"
   ]
  },
  {
   "cell_type": "code",
   "execution_count": 4,
   "id": "27fdf646",
   "metadata": {},
   "outputs": [
    {
     "name": "stdout",
     "output_type": "stream",
     "text": [
      "<class 'pandas.core.frame.DataFrame'>\n",
      "RangeIndex: 23650 entries, 0 to 23649\n",
      "Data columns (total 5 columns):\n",
      " #   Column             Non-Null Count  Dtype \n",
      "---  ------             --------------  ----- \n",
      " 0   Путь, км           23650 non-null  int64 \n",
      " 1   Масса груза, кг    23650 non-null  int64 \n",
      " 2   Терминал отгрузки  23650 non-null  object\n",
      " 3   Категория груза    23650 non-null  object\n",
      " 4   Гос номер          23650 non-null  object\n",
      "dtypes: int64(2), object(3)\n",
      "memory usage: 924.0+ KB\n"
     ]
    }
   ],
   "source": [
    "Delivery.info()"
   ]
  },
  {
   "cell_type": "code",
   "execution_count": 5,
   "id": "5ddefa32",
   "metadata": {},
   "outputs": [],
   "source": [
    "Delivery['Гос номер'] = Delivery['Гос номер'].str.upper()"
   ]
  },
  {
   "cell_type": "code",
   "execution_count": 6,
   "id": "9bacd284",
   "metadata": {},
   "outputs": [],
   "source": [
    "#reading data about park\n",
    "Park = pd.read_excel(\"ПАРК.xlsx\", sheet_name = 0, header = 1)"
   ]
  },
  {
   "cell_type": "code",
   "execution_count": 7,
   "id": "0af3c4e2",
   "metadata": {},
   "outputs": [
    {
     "data": {
      "text/html": [
       "<div>\n",
       "<style scoped>\n",
       "    .dataframe tbody tr th:only-of-type {\n",
       "        vertical-align: middle;\n",
       "    }\n",
       "\n",
       "    .dataframe tbody tr th {\n",
       "        vertical-align: top;\n",
       "    }\n",
       "\n",
       "    .dataframe thead th {\n",
       "        text-align: right;\n",
       "    }\n",
       "</style>\n",
       "<table border=\"1\" class=\"dataframe\">\n",
       "  <thead>\n",
       "    <tr style=\"text-align: right;\">\n",
       "      <th></th>\n",
       "      <th>Гос номер</th>\n",
       "      <th>Макс. грузоподъёмность, кг</th>\n",
       "      <th>Стоимость пробега / км, руб.</th>\n",
       "    </tr>\n",
       "  </thead>\n",
       "  <tbody>\n",
       "    <tr>\n",
       "      <th>0</th>\n",
       "      <td>А522НС177</td>\n",
       "      <td>1500</td>\n",
       "      <td>51</td>\n",
       "    </tr>\n",
       "    <tr>\n",
       "      <th>1</th>\n",
       "      <td>А914ХХ190</td>\n",
       "      <td>1500</td>\n",
       "      <td>51</td>\n",
       "    </tr>\n",
       "    <tr>\n",
       "      <th>2</th>\n",
       "      <td>В255ЕТ750</td>\n",
       "      <td>1500</td>\n",
       "      <td>51</td>\n",
       "    </tr>\n",
       "    <tr>\n",
       "      <th>3</th>\n",
       "      <td>В484ВЕ550</td>\n",
       "      <td>3000</td>\n",
       "      <td>72</td>\n",
       "    </tr>\n",
       "    <tr>\n",
       "      <th>4</th>\n",
       "      <td>В663РА99</td>\n",
       "      <td>1500</td>\n",
       "      <td>51</td>\n",
       "    </tr>\n",
       "  </tbody>\n",
       "</table>\n",
       "</div>"
      ],
      "text/plain": [
       "   Гос номер  Макс. грузоподъёмность, кг  Стоимость пробега / км, руб.\n",
       "0  А522НС177                        1500                            51\n",
       "1  А914ХХ190                        1500                            51\n",
       "2  В255ЕТ750                        1500                            51\n",
       "3  В484ВЕ550                        3000                            72\n",
       "4   В663РА99                        1500                            51"
      ]
     },
     "execution_count": 7,
     "metadata": {},
     "output_type": "execute_result"
    }
   ],
   "source": [
    "Park.head()"
   ]
  },
  {
   "cell_type": "code",
   "execution_count": 8,
   "id": "a6249c0a",
   "metadata": {},
   "outputs": [],
   "source": [
    "grouped_data = Park.groupby('Макс. грузоподъёмность, кг')"
   ]
  },
  {
   "cell_type": "code",
   "execution_count": 9,
   "id": "de0261f4",
   "metadata": {},
   "outputs": [
    {
     "data": {
      "text/plain": [
       "Макс. грузоподъёмность, кг\n",
       "500     15\n",
       "1500    34\n",
       "3000     8\n",
       "Name: Макс. грузоподъёмность, кг, dtype: int64"
      ]
     },
     "execution_count": 9,
     "metadata": {},
     "output_type": "execute_result"
    }
   ],
   "source": [
    "#Информация о составе парка\n",
    "grouped_data['Макс. грузоподъёмность, кг'].count()"
   ]
  },
  {
   "cell_type": "code",
   "execution_count": 10,
   "id": "027c2461",
   "metadata": {},
   "outputs": [
    {
     "data": {
      "text/html": [
       "<div>\n",
       "<style scoped>\n",
       "    .dataframe tbody tr th:only-of-type {\n",
       "        vertical-align: middle;\n",
       "    }\n",
       "\n",
       "    .dataframe tbody tr th {\n",
       "        vertical-align: top;\n",
       "    }\n",
       "\n",
       "    .dataframe thead th {\n",
       "        text-align: right;\n",
       "    }\n",
       "</style>\n",
       "<table border=\"1\" class=\"dataframe\">\n",
       "  <thead>\n",
       "    <tr style=\"text-align: right;\">\n",
       "      <th></th>\n",
       "      <th>Макс. грузоподъёмность, кг</th>\n",
       "      <th>Стоимость пробега / км, руб.</th>\n",
       "    </tr>\n",
       "  </thead>\n",
       "  <tbody>\n",
       "    <tr>\n",
       "      <th>count</th>\n",
       "      <td>57.000000</td>\n",
       "      <td>57.000000</td>\n",
       "    </tr>\n",
       "    <tr>\n",
       "      <th>mean</th>\n",
       "      <td>1447.368421</td>\n",
       "      <td>50.263158</td>\n",
       "    </tr>\n",
       "    <tr>\n",
       "      <th>std</th>\n",
       "      <td>765.810790</td>\n",
       "      <td>10.721351</td>\n",
       "    </tr>\n",
       "    <tr>\n",
       "      <th>min</th>\n",
       "      <td>500.000000</td>\n",
       "      <td>37.000000</td>\n",
       "    </tr>\n",
       "    <tr>\n",
       "      <th>25%</th>\n",
       "      <td>500.000000</td>\n",
       "      <td>37.000000</td>\n",
       "    </tr>\n",
       "    <tr>\n",
       "      <th>50%</th>\n",
       "      <td>1500.000000</td>\n",
       "      <td>51.000000</td>\n",
       "    </tr>\n",
       "    <tr>\n",
       "      <th>75%</th>\n",
       "      <td>1500.000000</td>\n",
       "      <td>51.000000</td>\n",
       "    </tr>\n",
       "    <tr>\n",
       "      <th>max</th>\n",
       "      <td>3000.000000</td>\n",
       "      <td>72.000000</td>\n",
       "    </tr>\n",
       "  </tbody>\n",
       "</table>\n",
       "</div>"
      ],
      "text/plain": [
       "       Макс. грузоподъёмность, кг  Стоимость пробега / км, руб.\n",
       "count                   57.000000                     57.000000\n",
       "mean                  1447.368421                     50.263158\n",
       "std                    765.810790                     10.721351\n",
       "min                    500.000000                     37.000000\n",
       "25%                    500.000000                     37.000000\n",
       "50%                   1500.000000                     51.000000\n",
       "75%                   1500.000000                     51.000000\n",
       "max                   3000.000000                     72.000000"
      ]
     },
     "execution_count": 10,
     "metadata": {},
     "output_type": "execute_result"
    }
   ],
   "source": [
    "Park.describe()"
   ]
  },
  {
   "cell_type": "code",
   "execution_count": 11,
   "id": "3519deb2",
   "metadata": {},
   "outputs": [
    {
     "data": {
      "text/plain": [
       "0.074"
      ]
     },
     "execution_count": 11,
     "metadata": {},
     "output_type": "execute_result"
    }
   ],
   "source": [
    "37/500"
   ]
  },
  {
   "cell_type": "code",
   "execution_count": 12,
   "id": "4ebff9a0",
   "metadata": {},
   "outputs": [
    {
     "data": {
      "text/plain": [
       "0.034"
      ]
     },
     "execution_count": 12,
     "metadata": {},
     "output_type": "execute_result"
    }
   ],
   "source": [
    "51/1500"
   ]
  },
  {
   "cell_type": "code",
   "execution_count": 13,
   "id": "32142d3a",
   "metadata": {},
   "outputs": [
    {
     "data": {
      "text/plain": [
       "0.024"
      ]
     },
     "execution_count": 13,
     "metadata": {},
     "output_type": "execute_result"
    }
   ],
   "source": [
    "72/3000"
   ]
  },
  {
   "cell_type": "code",
   "execution_count": 14,
   "id": "420a7c89",
   "metadata": {},
   "outputs": [],
   "source": [
    "df = Delivery.merge(Park, 'left')"
   ]
  },
  {
   "cell_type": "code",
   "execution_count": 15,
   "id": "5895fcbb",
   "metadata": {},
   "outputs": [
    {
     "data": {
      "text/html": [
       "<div>\n",
       "<style scoped>\n",
       "    .dataframe tbody tr th:only-of-type {\n",
       "        vertical-align: middle;\n",
       "    }\n",
       "\n",
       "    .dataframe tbody tr th {\n",
       "        vertical-align: top;\n",
       "    }\n",
       "\n",
       "    .dataframe thead th {\n",
       "        text-align: right;\n",
       "    }\n",
       "</style>\n",
       "<table border=\"1\" class=\"dataframe\">\n",
       "  <thead>\n",
       "    <tr style=\"text-align: right;\">\n",
       "      <th></th>\n",
       "      <th>Путь, км</th>\n",
       "      <th>Масса груза, кг</th>\n",
       "      <th>Терминал отгрузки</th>\n",
       "      <th>Категория груза</th>\n",
       "      <th>Гос номер</th>\n",
       "      <th>Макс. грузоподъёмность, кг</th>\n",
       "      <th>Стоимость пробега / км, руб.</th>\n",
       "    </tr>\n",
       "  </thead>\n",
       "  <tbody>\n",
       "    <tr>\n",
       "      <th>0</th>\n",
       "      <td>67</td>\n",
       "      <td>2655</td>\n",
       "      <td>Восток</td>\n",
       "      <td>Категория K</td>\n",
       "      <td>Е954АА97</td>\n",
       "      <td>3000</td>\n",
       "      <td>72</td>\n",
       "    </tr>\n",
       "    <tr>\n",
       "      <th>1</th>\n",
       "      <td>70</td>\n",
       "      <td>2961</td>\n",
       "      <td>Восток</td>\n",
       "      <td>Категория C</td>\n",
       "      <td>О625АМ90</td>\n",
       "      <td>3000</td>\n",
       "      <td>72</td>\n",
       "    </tr>\n",
       "    <tr>\n",
       "      <th>2</th>\n",
       "      <td>37</td>\n",
       "      <td>2546</td>\n",
       "      <td>Юг</td>\n",
       "      <td>Категория K</td>\n",
       "      <td>В484ВЕ550</td>\n",
       "      <td>3000</td>\n",
       "      <td>72</td>\n",
       "    </tr>\n",
       "    <tr>\n",
       "      <th>3</th>\n",
       "      <td>95</td>\n",
       "      <td>399</td>\n",
       "      <td>Север</td>\n",
       "      <td>Категория C</td>\n",
       "      <td>Р449ЕЕ190</td>\n",
       "      <td>1500</td>\n",
       "      <td>51</td>\n",
       "    </tr>\n",
       "    <tr>\n",
       "      <th>4</th>\n",
       "      <td>121</td>\n",
       "      <td>1219</td>\n",
       "      <td>Восток</td>\n",
       "      <td>Категория C</td>\n",
       "      <td>А522НС177</td>\n",
       "      <td>1500</td>\n",
       "      <td>51</td>\n",
       "    </tr>\n",
       "    <tr>\n",
       "      <th>5</th>\n",
       "      <td>89</td>\n",
       "      <td>2075</td>\n",
       "      <td>Юг</td>\n",
       "      <td>Категория C</td>\n",
       "      <td>Х112ОТ97</td>\n",
       "      <td>3000</td>\n",
       "      <td>72</td>\n",
       "    </tr>\n",
       "    <tr>\n",
       "      <th>6</th>\n",
       "      <td>29</td>\n",
       "      <td>121</td>\n",
       "      <td>Восток</td>\n",
       "      <td>Категория K</td>\n",
       "      <td>Е658ЕЕ190</td>\n",
       "      <td>500</td>\n",
       "      <td>37</td>\n",
       "    </tr>\n",
       "    <tr>\n",
       "      <th>7</th>\n",
       "      <td>84</td>\n",
       "      <td>849</td>\n",
       "      <td>Восток</td>\n",
       "      <td>Категория C</td>\n",
       "      <td>Р232ТН750</td>\n",
       "      <td>3000</td>\n",
       "      <td>72</td>\n",
       "    </tr>\n",
       "    <tr>\n",
       "      <th>8</th>\n",
       "      <td>115</td>\n",
       "      <td>2380</td>\n",
       "      <td>Восток</td>\n",
       "      <td>Категория C</td>\n",
       "      <td>К480УР90</td>\n",
       "      <td>3000</td>\n",
       "      <td>72</td>\n",
       "    </tr>\n",
       "    <tr>\n",
       "      <th>9</th>\n",
       "      <td>44</td>\n",
       "      <td>2785</td>\n",
       "      <td>Восток</td>\n",
       "      <td>Категория C</td>\n",
       "      <td>К707ХС99</td>\n",
       "      <td>3000</td>\n",
       "      <td>72</td>\n",
       "    </tr>\n",
       "  </tbody>\n",
       "</table>\n",
       "</div>"
      ],
      "text/plain": [
       "   Путь, км  Масса груза, кг Терминал отгрузки Категория груза  Гос номер  \\\n",
       "0        67             2655            Восток     Категория K   Е954АА97   \n",
       "1        70             2961            Восток     Категория C   О625АМ90   \n",
       "2        37             2546                Юг     Категория K  В484ВЕ550   \n",
       "3        95              399             Север     Категория C  Р449ЕЕ190   \n",
       "4       121             1219            Восток     Категория C  А522НС177   \n",
       "5        89             2075                Юг     Категория C   Х112ОТ97   \n",
       "6        29              121            Восток     Категория K  Е658ЕЕ190   \n",
       "7        84              849            Восток     Категория C  Р232ТН750   \n",
       "8       115             2380            Восток     Категория C   К480УР90   \n",
       "9        44             2785            Восток     Категория C   К707ХС99   \n",
       "\n",
       "   Макс. грузоподъёмность, кг  Стоимость пробега / км, руб.  \n",
       "0                        3000                            72  \n",
       "1                        3000                            72  \n",
       "2                        3000                            72  \n",
       "3                        1500                            51  \n",
       "4                        1500                            51  \n",
       "5                        3000                            72  \n",
       "6                         500                            37  \n",
       "7                        3000                            72  \n",
       "8                        3000                            72  \n",
       "9                        3000                            72  "
      ]
     },
     "execution_count": 15,
     "metadata": {},
     "output_type": "execute_result"
    }
   ],
   "source": [
    "df.head(10)"
   ]
  },
  {
   "cell_type": "code",
   "execution_count": 16,
   "id": "7fa187d1",
   "metadata": {},
   "outputs": [],
   "source": [
    "df.to_excel (r'C:\\Users\\oxana\\Desktop\\mydata.xlsx', sheet_name='this_data')"
   ]
  },
  {
   "cell_type": "code",
   "execution_count": 17,
   "id": "b5ecf968",
   "metadata": {},
   "outputs": [],
   "source": [
    "#Добавляем столбец, в котором считаем затраты на одну доставку\n",
    "df['Затраты на одну доставку, руб'] = df['Путь, км']*df['Стоимость пробега / км, руб.']"
   ]
  },
  {
   "cell_type": "code",
   "execution_count": 18,
   "id": "7a9de7fc",
   "metadata": {},
   "outputs": [],
   "source": [
    "#Добавляем столбец, в котором считаем стоимость 1 кг доставки\n",
    "df['Стоимость доставки за 1 кг'] = df['Затраты на одну доставку, руб']/df['Масса груза, кг']"
   ]
  },
  {
   "cell_type": "code",
   "execution_count": 19,
   "id": "56d947d0",
   "metadata": {},
   "outputs": [
    {
     "data": {
      "text/html": [
       "<div>\n",
       "<style scoped>\n",
       "    .dataframe tbody tr th:only-of-type {\n",
       "        vertical-align: middle;\n",
       "    }\n",
       "\n",
       "    .dataframe tbody tr th {\n",
       "        vertical-align: top;\n",
       "    }\n",
       "\n",
       "    .dataframe thead th {\n",
       "        text-align: right;\n",
       "    }\n",
       "</style>\n",
       "<table border=\"1\" class=\"dataframe\">\n",
       "  <thead>\n",
       "    <tr style=\"text-align: right;\">\n",
       "      <th></th>\n",
       "      <th>Путь, км</th>\n",
       "      <th>Масса груза, кг</th>\n",
       "      <th>Терминал отгрузки</th>\n",
       "      <th>Категория груза</th>\n",
       "      <th>Гос номер</th>\n",
       "      <th>Макс. грузоподъёмность, кг</th>\n",
       "      <th>Стоимость пробега / км, руб.</th>\n",
       "      <th>Затраты на одну доставку, руб</th>\n",
       "      <th>Стоимость доставки за 1 кг</th>\n",
       "    </tr>\n",
       "  </thead>\n",
       "  <tbody>\n",
       "    <tr>\n",
       "      <th>0</th>\n",
       "      <td>67</td>\n",
       "      <td>2655</td>\n",
       "      <td>Восток</td>\n",
       "      <td>Категория K</td>\n",
       "      <td>Е954АА97</td>\n",
       "      <td>3000</td>\n",
       "      <td>72</td>\n",
       "      <td>4824</td>\n",
       "      <td>1.816949</td>\n",
       "    </tr>\n",
       "    <tr>\n",
       "      <th>1</th>\n",
       "      <td>70</td>\n",
       "      <td>2961</td>\n",
       "      <td>Восток</td>\n",
       "      <td>Категория C</td>\n",
       "      <td>О625АМ90</td>\n",
       "      <td>3000</td>\n",
       "      <td>72</td>\n",
       "      <td>5040</td>\n",
       "      <td>1.702128</td>\n",
       "    </tr>\n",
       "    <tr>\n",
       "      <th>2</th>\n",
       "      <td>37</td>\n",
       "      <td>2546</td>\n",
       "      <td>Юг</td>\n",
       "      <td>Категория K</td>\n",
       "      <td>В484ВЕ550</td>\n",
       "      <td>3000</td>\n",
       "      <td>72</td>\n",
       "      <td>2664</td>\n",
       "      <td>1.046347</td>\n",
       "    </tr>\n",
       "    <tr>\n",
       "      <th>3</th>\n",
       "      <td>95</td>\n",
       "      <td>399</td>\n",
       "      <td>Север</td>\n",
       "      <td>Категория C</td>\n",
       "      <td>Р449ЕЕ190</td>\n",
       "      <td>1500</td>\n",
       "      <td>51</td>\n",
       "      <td>4845</td>\n",
       "      <td>12.142857</td>\n",
       "    </tr>\n",
       "    <tr>\n",
       "      <th>4</th>\n",
       "      <td>121</td>\n",
       "      <td>1219</td>\n",
       "      <td>Восток</td>\n",
       "      <td>Категория C</td>\n",
       "      <td>А522НС177</td>\n",
       "      <td>1500</td>\n",
       "      <td>51</td>\n",
       "      <td>6171</td>\n",
       "      <td>5.062346</td>\n",
       "    </tr>\n",
       "    <tr>\n",
       "      <th>...</th>\n",
       "      <td>...</td>\n",
       "      <td>...</td>\n",
       "      <td>...</td>\n",
       "      <td>...</td>\n",
       "      <td>...</td>\n",
       "      <td>...</td>\n",
       "      <td>...</td>\n",
       "      <td>...</td>\n",
       "      <td>...</td>\n",
       "    </tr>\n",
       "    <tr>\n",
       "      <th>23645</th>\n",
       "      <td>142</td>\n",
       "      <td>1257</td>\n",
       "      <td>Юг</td>\n",
       "      <td>Категория C</td>\n",
       "      <td>Т952СВ77</td>\n",
       "      <td>1500</td>\n",
       "      <td>51</td>\n",
       "      <td>7242</td>\n",
       "      <td>5.761337</td>\n",
       "    </tr>\n",
       "    <tr>\n",
       "      <th>23646</th>\n",
       "      <td>121</td>\n",
       "      <td>124</td>\n",
       "      <td>Восток</td>\n",
       "      <td>Категория C</td>\n",
       "      <td>А678КС190</td>\n",
       "      <td>500</td>\n",
       "      <td>37</td>\n",
       "      <td>4477</td>\n",
       "      <td>36.104839</td>\n",
       "    </tr>\n",
       "    <tr>\n",
       "      <th>23647</th>\n",
       "      <td>39</td>\n",
       "      <td>440</td>\n",
       "      <td>Юг</td>\n",
       "      <td>Категория C</td>\n",
       "      <td>О691ХТ77</td>\n",
       "      <td>1500</td>\n",
       "      <td>51</td>\n",
       "      <td>1989</td>\n",
       "      <td>4.520455</td>\n",
       "    </tr>\n",
       "    <tr>\n",
       "      <th>23648</th>\n",
       "      <td>87</td>\n",
       "      <td>142</td>\n",
       "      <td>Восток</td>\n",
       "      <td>Категория C</td>\n",
       "      <td>Т705МВ797</td>\n",
       "      <td>500</td>\n",
       "      <td>37</td>\n",
       "      <td>3219</td>\n",
       "      <td>22.669014</td>\n",
       "    </tr>\n",
       "    <tr>\n",
       "      <th>23649</th>\n",
       "      <td>20</td>\n",
       "      <td>274</td>\n",
       "      <td>Восток</td>\n",
       "      <td>Категория K</td>\n",
       "      <td>Е694ТТ177</td>\n",
       "      <td>1500</td>\n",
       "      <td>51</td>\n",
       "      <td>1020</td>\n",
       "      <td>3.722628</td>\n",
       "    </tr>\n",
       "  </tbody>\n",
       "</table>\n",
       "<p>23650 rows × 9 columns</p>\n",
       "</div>"
      ],
      "text/plain": [
       "       Путь, км  Масса груза, кг Терминал отгрузки Категория груза  Гос номер  \\\n",
       "0            67             2655            Восток     Категория K   Е954АА97   \n",
       "1            70             2961            Восток     Категория C   О625АМ90   \n",
       "2            37             2546                Юг     Категория K  В484ВЕ550   \n",
       "3            95              399             Север     Категория C  Р449ЕЕ190   \n",
       "4           121             1219            Восток     Категория C  А522НС177   \n",
       "...         ...              ...               ...             ...        ...   \n",
       "23645       142             1257                Юг     Категория C   Т952СВ77   \n",
       "23646       121              124            Восток     Категория C  А678КС190   \n",
       "23647        39              440                Юг     Категория C   О691ХТ77   \n",
       "23648        87              142            Восток     Категория C  Т705МВ797   \n",
       "23649        20              274            Восток     Категория K  Е694ТТ177   \n",
       "\n",
       "       Макс. грузоподъёмность, кг  Стоимость пробега / км, руб.  \\\n",
       "0                            3000                            72   \n",
       "1                            3000                            72   \n",
       "2                            3000                            72   \n",
       "3                            1500                            51   \n",
       "4                            1500                            51   \n",
       "...                           ...                           ...   \n",
       "23645                        1500                            51   \n",
       "23646                         500                            37   \n",
       "23647                        1500                            51   \n",
       "23648                         500                            37   \n",
       "23649                        1500                            51   \n",
       "\n",
       "       Затраты на одну доставку, руб  Стоимость доставки за 1 кг  \n",
       "0                               4824                    1.816949  \n",
       "1                               5040                    1.702128  \n",
       "2                               2664                    1.046347  \n",
       "3                               4845                   12.142857  \n",
       "4                               6171                    5.062346  \n",
       "...                              ...                         ...  \n",
       "23645                           7242                    5.761337  \n",
       "23646                           4477                   36.104839  \n",
       "23647                           1989                    4.520455  \n",
       "23648                           3219                   22.669014  \n",
       "23649                           1020                    3.722628  \n",
       "\n",
       "[23650 rows x 9 columns]"
      ]
     },
     "execution_count": 19,
     "metadata": {},
     "output_type": "execute_result"
    }
   ],
   "source": [
    "df"
   ]
  },
  {
   "cell_type": "code",
   "execution_count": 20,
   "id": "d003275c",
   "metadata": {},
   "outputs": [
    {
     "name": "stdout",
     "output_type": "stream",
     "text": [
      "1912493\n"
     ]
    }
   ],
   "source": [
    "summ_km = df['Путь, км'].sum()\n",
    "print(summ_km)"
   ]
  },
  {
   "cell_type": "code",
   "execution_count": 21,
   "id": "162629ed",
   "metadata": {},
   "outputs": [],
   "source": [
    "# Экспорт таблицы в Эксель\n",
    "#df.to_excel (r'C:\\Users\\oxana\\Desktop\\case_axenix.xlsx', index = False, sheet_name='costs')"
   ]
  },
  {
   "cell_type": "code",
   "execution_count": 22,
   "id": "f1e5e78f",
   "metadata": {},
   "outputs": [],
   "source": [
    "grouped_df = df.groupby('Макс. грузоподъёмность, кг')"
   ]
  },
  {
   "cell_type": "code",
   "execution_count": 23,
   "id": "bc6e76f9",
   "metadata": {},
   "outputs": [],
   "source": [
    "df_new = grouped_df['Затраты на одну доставку, руб'].sum()"
   ]
  },
  {
   "cell_type": "code",
   "execution_count": 24,
   "id": "8948d960",
   "metadata": {},
   "outputs": [
    {
     "data": {
      "text/plain": [
       "Макс. грузоподъёмность, кг\n",
       "500     12759561\n",
       "1500    49594746\n",
       "3000    42853968\n",
       "Name: Затраты на одну доставку, руб, dtype: int64"
      ]
     },
     "execution_count": 24,
     "metadata": {},
     "output_type": "execute_result"
    }
   ],
   "source": [
    "df_new"
   ]
  },
  {
   "cell_type": "markdown",
   "id": "81fe6e84",
   "metadata": {},
   "source": [
    "# Определение затрат на одну доставку и стоимость доставки за 1 кг в зависимости от грузоподъемности транспорта"
   ]
  },
  {
   "cell_type": "markdown",
   "id": "defbeb2c",
   "metadata": {},
   "source": [
    "### Автомобили грузоподъемностью 500 кг"
   ]
  },
  {
   "cell_type": "code",
   "execution_count": 25,
   "id": "6fd03e75",
   "metadata": {},
   "outputs": [],
   "source": [
    "weight_500 = df[df['Макс. грузоподъёмность, кг'] == 500]"
   ]
  },
  {
   "cell_type": "code",
   "execution_count": 26,
   "id": "abb6b97e",
   "metadata": {},
   "outputs": [
    {
     "data": {
      "text/html": [
       "<div>\n",
       "<style scoped>\n",
       "    .dataframe tbody tr th:only-of-type {\n",
       "        vertical-align: middle;\n",
       "    }\n",
       "\n",
       "    .dataframe tbody tr th {\n",
       "        vertical-align: top;\n",
       "    }\n",
       "\n",
       "    .dataframe thead th {\n",
       "        text-align: right;\n",
       "    }\n",
       "</style>\n",
       "<table border=\"1\" class=\"dataframe\">\n",
       "  <thead>\n",
       "    <tr style=\"text-align: right;\">\n",
       "      <th></th>\n",
       "      <th>Путь, км</th>\n",
       "      <th>Масса груза, кг</th>\n",
       "      <th>Терминал отгрузки</th>\n",
       "      <th>Категория груза</th>\n",
       "      <th>Гос номер</th>\n",
       "      <th>Макс. грузоподъёмность, кг</th>\n",
       "      <th>Стоимость пробега / км, руб.</th>\n",
       "      <th>Затраты на одну доставку, руб</th>\n",
       "      <th>Стоимость доставки за 1 кг</th>\n",
       "    </tr>\n",
       "  </thead>\n",
       "  <tbody>\n",
       "    <tr>\n",
       "      <th>6</th>\n",
       "      <td>29</td>\n",
       "      <td>121</td>\n",
       "      <td>Восток</td>\n",
       "      <td>Категория K</td>\n",
       "      <td>Е658ЕЕ190</td>\n",
       "      <td>500</td>\n",
       "      <td>37</td>\n",
       "      <td>1073</td>\n",
       "      <td>8.867769</td>\n",
       "    </tr>\n",
       "    <tr>\n",
       "      <th>31</th>\n",
       "      <td>81</td>\n",
       "      <td>375</td>\n",
       "      <td>Восток</td>\n",
       "      <td>Категория K</td>\n",
       "      <td>Р092ТО790</td>\n",
       "      <td>500</td>\n",
       "      <td>37</td>\n",
       "      <td>2997</td>\n",
       "      <td>7.992000</td>\n",
       "    </tr>\n",
       "    <tr>\n",
       "      <th>39</th>\n",
       "      <td>109</td>\n",
       "      <td>182</td>\n",
       "      <td>Юг</td>\n",
       "      <td>Категория C</td>\n",
       "      <td>Т705МВ797</td>\n",
       "      <td>500</td>\n",
       "      <td>37</td>\n",
       "      <td>4033</td>\n",
       "      <td>22.159341</td>\n",
       "    </tr>\n",
       "    <tr>\n",
       "      <th>45</th>\n",
       "      <td>101</td>\n",
       "      <td>221</td>\n",
       "      <td>Юг</td>\n",
       "      <td>Категория K</td>\n",
       "      <td>А555УМ777</td>\n",
       "      <td>500</td>\n",
       "      <td>37</td>\n",
       "      <td>3737</td>\n",
       "      <td>16.909502</td>\n",
       "    </tr>\n",
       "    <tr>\n",
       "      <th>53</th>\n",
       "      <td>121</td>\n",
       "      <td>471</td>\n",
       "      <td>Юг</td>\n",
       "      <td>Категория D</td>\n",
       "      <td>О471СР799</td>\n",
       "      <td>500</td>\n",
       "      <td>37</td>\n",
       "      <td>4477</td>\n",
       "      <td>9.505308</td>\n",
       "    </tr>\n",
       "  </tbody>\n",
       "</table>\n",
       "</div>"
      ],
      "text/plain": [
       "    Путь, км  Масса груза, кг Терминал отгрузки Категория груза  Гос номер  \\\n",
       "6         29              121            Восток     Категория K  Е658ЕЕ190   \n",
       "31        81              375            Восток     Категория K  Р092ТО790   \n",
       "39       109              182                Юг     Категория C  Т705МВ797   \n",
       "45       101              221                Юг     Категория K  А555УМ777   \n",
       "53       121              471                Юг     Категория D  О471СР799   \n",
       "\n",
       "    Макс. грузоподъёмность, кг  Стоимость пробега / км, руб.  \\\n",
       "6                          500                            37   \n",
       "31                         500                            37   \n",
       "39                         500                            37   \n",
       "45                         500                            37   \n",
       "53                         500                            37   \n",
       "\n",
       "    Затраты на одну доставку, руб  Стоимость доставки за 1 кг  \n",
       "6                            1073                    8.867769  \n",
       "31                           2997                    7.992000  \n",
       "39                           4033                   22.159341  \n",
       "45                           3737                   16.909502  \n",
       "53                           4477                    9.505308  "
      ]
     },
     "execution_count": 26,
     "metadata": {},
     "output_type": "execute_result"
    }
   ],
   "source": [
    "weight_500.head()"
   ]
  },
  {
   "cell_type": "code",
   "execution_count": 27,
   "id": "5badf3bd",
   "metadata": {},
   "outputs": [
    {
     "name": "stdout",
     "output_type": "stream",
     "text": [
      "<class 'pandas.core.frame.DataFrame'>\n",
      "Int64Index: 5148 entries, 6 to 23648\n",
      "Data columns (total 9 columns):\n",
      " #   Column                         Non-Null Count  Dtype  \n",
      "---  ------                         --------------  -----  \n",
      " 0   Путь, км                       5148 non-null   int64  \n",
      " 1   Масса груза, кг                5148 non-null   int64  \n",
      " 2   Терминал отгрузки              5148 non-null   object \n",
      " 3   Категория груза                5148 non-null   object \n",
      " 4   Гос номер                      5148 non-null   object \n",
      " 5   Макс. грузоподъёмность, кг     5148 non-null   int64  \n",
      " 6   Стоимость пробега / км, руб.   5148 non-null   int64  \n",
      " 7   Затраты на одну доставку, руб  5148 non-null   int64  \n",
      " 8   Стоимость доставки за 1 кг     5148 non-null   float64\n",
      "dtypes: float64(1), int64(5), object(3)\n",
      "memory usage: 402.2+ KB\n"
     ]
    }
   ],
   "source": [
    "weight_500.info()"
   ]
  },
  {
   "cell_type": "code",
   "execution_count": 28,
   "id": "e2c9ae7a",
   "metadata": {},
   "outputs": [],
   "source": [
    "grouped_500 = weight_500.groupby('Гос номер')"
   ]
  },
  {
   "cell_type": "code",
   "execution_count": 29,
   "id": "926242b5",
   "metadata": {},
   "outputs": [
    {
     "data": {
      "text/plain": [
       "Гос номер\n",
       "А550ММ977    345\n",
       "А555УМ777    356\n",
       "А678КС190    346\n",
       "В666ОУ197    349\n",
       "Е450АА50     318\n",
       "Е658ЕЕ190    342\n",
       "Е905АМ99     347\n",
       "Е933НР777    324\n",
       "О471СР799    338\n",
       "О839АК777    315\n",
       "О865МТ150    357\n",
       "Р092ТО790    356\n",
       "Р980ХВ199    328\n",
       "Т705МВ797    374\n",
       "Х581МК77     353\n",
       "Name: Гос номер, dtype: int64"
      ]
     },
     "execution_count": 29,
     "metadata": {},
     "output_type": "execute_result"
    }
   ],
   "source": [
    "grouped_500['Гос номер'].count()"
   ]
  },
  {
   "cell_type": "code",
   "execution_count": 30,
   "id": "f6475d2c",
   "metadata": {},
   "outputs": [
    {
     "data": {
      "text/plain": [
       "14.730423907164635"
      ]
     },
     "execution_count": 30,
     "metadata": {},
     "output_type": "execute_result"
    }
   ],
   "source": [
    "weight_500['Стоимость доставки за 1 кг'].mean()"
   ]
  },
  {
   "cell_type": "markdown",
   "id": "0de1f3af",
   "metadata": {},
   "source": [
    "Средняя стоимость доставки - 14,73 рубля"
   ]
  },
  {
   "cell_type": "code",
   "execution_count": 31,
   "id": "66bc86df",
   "metadata": {},
   "outputs": [
    {
     "data": {
      "text/plain": [
       "2478.5472027972028"
      ]
     },
     "execution_count": 31,
     "metadata": {},
     "output_type": "execute_result"
    }
   ],
   "source": [
    "weight_500['Затраты на одну доставку, руб'].mean()"
   ]
  },
  {
   "cell_type": "markdown",
   "id": "99c912da",
   "metadata": {},
   "source": [
    "### Автомобили грузоподъемностью 1500 кг"
   ]
  },
  {
   "cell_type": "code",
   "execution_count": 32,
   "id": "3f5f6620",
   "metadata": {},
   "outputs": [],
   "source": [
    "weight_1500 = df[df['Макс. грузоподъёмность, кг'] == 1500]"
   ]
  },
  {
   "cell_type": "code",
   "execution_count": 33,
   "id": "f379112a",
   "metadata": {},
   "outputs": [
    {
     "data": {
      "text/html": [
       "<div>\n",
       "<style scoped>\n",
       "    .dataframe tbody tr th:only-of-type {\n",
       "        vertical-align: middle;\n",
       "    }\n",
       "\n",
       "    .dataframe tbody tr th {\n",
       "        vertical-align: top;\n",
       "    }\n",
       "\n",
       "    .dataframe thead th {\n",
       "        text-align: right;\n",
       "    }\n",
       "</style>\n",
       "<table border=\"1\" class=\"dataframe\">\n",
       "  <thead>\n",
       "    <tr style=\"text-align: right;\">\n",
       "      <th></th>\n",
       "      <th>Путь, км</th>\n",
       "      <th>Масса груза, кг</th>\n",
       "      <th>Терминал отгрузки</th>\n",
       "      <th>Категория груза</th>\n",
       "      <th>Гос номер</th>\n",
       "      <th>Макс. грузоподъёмность, кг</th>\n",
       "      <th>Стоимость пробега / км, руб.</th>\n",
       "      <th>Затраты на одну доставку, руб</th>\n",
       "      <th>Стоимость доставки за 1 кг</th>\n",
       "    </tr>\n",
       "  </thead>\n",
       "  <tbody>\n",
       "    <tr>\n",
       "      <th>3</th>\n",
       "      <td>95</td>\n",
       "      <td>399</td>\n",
       "      <td>Север</td>\n",
       "      <td>Категория C</td>\n",
       "      <td>Р449ЕЕ190</td>\n",
       "      <td>1500</td>\n",
       "      <td>51</td>\n",
       "      <td>4845</td>\n",
       "      <td>12.142857</td>\n",
       "    </tr>\n",
       "    <tr>\n",
       "      <th>4</th>\n",
       "      <td>121</td>\n",
       "      <td>1219</td>\n",
       "      <td>Восток</td>\n",
       "      <td>Категория C</td>\n",
       "      <td>А522НС177</td>\n",
       "      <td>1500</td>\n",
       "      <td>51</td>\n",
       "      <td>6171</td>\n",
       "      <td>5.062346</td>\n",
       "    </tr>\n",
       "    <tr>\n",
       "      <th>10</th>\n",
       "      <td>78</td>\n",
       "      <td>1244</td>\n",
       "      <td>Восток</td>\n",
       "      <td>Категория C</td>\n",
       "      <td>В663РА99</td>\n",
       "      <td>1500</td>\n",
       "      <td>51</td>\n",
       "      <td>3978</td>\n",
       "      <td>3.197749</td>\n",
       "    </tr>\n",
       "    <tr>\n",
       "      <th>13</th>\n",
       "      <td>143</td>\n",
       "      <td>201</td>\n",
       "      <td>Юг</td>\n",
       "      <td>Категория D</td>\n",
       "      <td>А914ХХ190</td>\n",
       "      <td>1500</td>\n",
       "      <td>51</td>\n",
       "      <td>7293</td>\n",
       "      <td>36.283582</td>\n",
       "    </tr>\n",
       "    <tr>\n",
       "      <th>14</th>\n",
       "      <td>30</td>\n",
       "      <td>1187</td>\n",
       "      <td>Восток</td>\n",
       "      <td>Категория C</td>\n",
       "      <td>Е828ЕУ197</td>\n",
       "      <td>1500</td>\n",
       "      <td>51</td>\n",
       "      <td>1530</td>\n",
       "      <td>1.288964</td>\n",
       "    </tr>\n",
       "  </tbody>\n",
       "</table>\n",
       "</div>"
      ],
      "text/plain": [
       "    Путь, км  Масса груза, кг Терминал отгрузки Категория груза  Гос номер  \\\n",
       "3         95              399             Север     Категория C  Р449ЕЕ190   \n",
       "4        121             1219            Восток     Категория C  А522НС177   \n",
       "10        78             1244            Восток     Категория C   В663РА99   \n",
       "13       143              201                Юг     Категория D  А914ХХ190   \n",
       "14        30             1187            Восток     Категория C  Е828ЕУ197   \n",
       "\n",
       "    Макс. грузоподъёмность, кг  Стоимость пробега / км, руб.  \\\n",
       "3                         1500                            51   \n",
       "4                         1500                            51   \n",
       "10                        1500                            51   \n",
       "13                        1500                            51   \n",
       "14                        1500                            51   \n",
       "\n",
       "    Затраты на одну доставку, руб  Стоимость доставки за 1 кг  \n",
       "3                            4845                   12.142857  \n",
       "4                            6171                    5.062346  \n",
       "10                           3978                    3.197749  \n",
       "13                           7293                   36.283582  \n",
       "14                           1530                    1.288964  "
      ]
     },
     "execution_count": 33,
     "metadata": {},
     "output_type": "execute_result"
    }
   ],
   "source": [
    "weight_1500.head()"
   ]
  },
  {
   "cell_type": "code",
   "execution_count": 34,
   "id": "e0875ddf",
   "metadata": {},
   "outputs": [
    {
     "name": "stdout",
     "output_type": "stream",
     "text": [
      "<class 'pandas.core.frame.DataFrame'>\n",
      "Int64Index: 11451 entries, 3 to 23649\n",
      "Data columns (total 9 columns):\n",
      " #   Column                         Non-Null Count  Dtype  \n",
      "---  ------                         --------------  -----  \n",
      " 0   Путь, км                       11451 non-null  int64  \n",
      " 1   Масса груза, кг                11451 non-null  int64  \n",
      " 2   Терминал отгрузки              11451 non-null  object \n",
      " 3   Категория груза                11451 non-null  object \n",
      " 4   Гос номер                      11451 non-null  object \n",
      " 5   Макс. грузоподъёмность, кг     11451 non-null  int64  \n",
      " 6   Стоимость пробега / км, руб.   11451 non-null  int64  \n",
      " 7   Затраты на одну доставку, руб  11451 non-null  int64  \n",
      " 8   Стоимость доставки за 1 кг     11451 non-null  float64\n",
      "dtypes: float64(1), int64(5), object(3)\n",
      "memory usage: 894.6+ KB\n"
     ]
    }
   ],
   "source": [
    "weight_1500.info()"
   ]
  },
  {
   "cell_type": "code",
   "execution_count": 35,
   "id": "b65ea381",
   "metadata": {},
   "outputs": [
    {
     "data": {
      "text/plain": [
       "7.703678920116651"
      ]
     },
     "execution_count": 35,
     "metadata": {},
     "output_type": "execute_result"
    }
   ],
   "source": [
    "weight_1500['Стоимость доставки за 1 кг'].mean()"
   ]
  },
  {
   "cell_type": "markdown",
   "id": "ab478948",
   "metadata": {},
   "source": [
    "Средняя стоимость доставки - 7.7 руб."
   ]
  },
  {
   "cell_type": "code",
   "execution_count": 36,
   "id": "fcb459ec",
   "metadata": {},
   "outputs": [
    {
     "data": {
      "text/plain": [
       "4331.040607807178"
      ]
     },
     "execution_count": 36,
     "metadata": {},
     "output_type": "execute_result"
    }
   ],
   "source": [
    "weight_1500['Затраты на одну доставку, руб'].mean()"
   ]
  },
  {
   "cell_type": "markdown",
   "id": "b5ebc174",
   "metadata": {},
   "source": [
    "### Автомобили грузоподъемностью 3000 кг"
   ]
  },
  {
   "cell_type": "code",
   "execution_count": 37,
   "id": "e4258968",
   "metadata": {},
   "outputs": [],
   "source": [
    "weight_3000 = df[df['Макс. грузоподъёмность, кг'] == 3000]"
   ]
  },
  {
   "cell_type": "code",
   "execution_count": 38,
   "id": "42b2b4e4",
   "metadata": {},
   "outputs": [
    {
     "data": {
      "text/html": [
       "<div>\n",
       "<style scoped>\n",
       "    .dataframe tbody tr th:only-of-type {\n",
       "        vertical-align: middle;\n",
       "    }\n",
       "\n",
       "    .dataframe tbody tr th {\n",
       "        vertical-align: top;\n",
       "    }\n",
       "\n",
       "    .dataframe thead th {\n",
       "        text-align: right;\n",
       "    }\n",
       "</style>\n",
       "<table border=\"1\" class=\"dataframe\">\n",
       "  <thead>\n",
       "    <tr style=\"text-align: right;\">\n",
       "      <th></th>\n",
       "      <th>Путь, км</th>\n",
       "      <th>Масса груза, кг</th>\n",
       "      <th>Терминал отгрузки</th>\n",
       "      <th>Категория груза</th>\n",
       "      <th>Гос номер</th>\n",
       "      <th>Макс. грузоподъёмность, кг</th>\n",
       "      <th>Стоимость пробега / км, руб.</th>\n",
       "      <th>Затраты на одну доставку, руб</th>\n",
       "      <th>Стоимость доставки за 1 кг</th>\n",
       "    </tr>\n",
       "  </thead>\n",
       "  <tbody>\n",
       "    <tr>\n",
       "      <th>0</th>\n",
       "      <td>67</td>\n",
       "      <td>2655</td>\n",
       "      <td>Восток</td>\n",
       "      <td>Категория K</td>\n",
       "      <td>Е954АА97</td>\n",
       "      <td>3000</td>\n",
       "      <td>72</td>\n",
       "      <td>4824</td>\n",
       "      <td>1.816949</td>\n",
       "    </tr>\n",
       "    <tr>\n",
       "      <th>1</th>\n",
       "      <td>70</td>\n",
       "      <td>2961</td>\n",
       "      <td>Восток</td>\n",
       "      <td>Категория C</td>\n",
       "      <td>О625АМ90</td>\n",
       "      <td>3000</td>\n",
       "      <td>72</td>\n",
       "      <td>5040</td>\n",
       "      <td>1.702128</td>\n",
       "    </tr>\n",
       "    <tr>\n",
       "      <th>2</th>\n",
       "      <td>37</td>\n",
       "      <td>2546</td>\n",
       "      <td>Юг</td>\n",
       "      <td>Категория K</td>\n",
       "      <td>В484ВЕ550</td>\n",
       "      <td>3000</td>\n",
       "      <td>72</td>\n",
       "      <td>2664</td>\n",
       "      <td>1.046347</td>\n",
       "    </tr>\n",
       "    <tr>\n",
       "      <th>5</th>\n",
       "      <td>89</td>\n",
       "      <td>2075</td>\n",
       "      <td>Юг</td>\n",
       "      <td>Категория C</td>\n",
       "      <td>Х112ОТ97</td>\n",
       "      <td>3000</td>\n",
       "      <td>72</td>\n",
       "      <td>6408</td>\n",
       "      <td>3.088193</td>\n",
       "    </tr>\n",
       "    <tr>\n",
       "      <th>7</th>\n",
       "      <td>84</td>\n",
       "      <td>849</td>\n",
       "      <td>Восток</td>\n",
       "      <td>Категория C</td>\n",
       "      <td>Р232ТН750</td>\n",
       "      <td>3000</td>\n",
       "      <td>72</td>\n",
       "      <td>6048</td>\n",
       "      <td>7.123675</td>\n",
       "    </tr>\n",
       "  </tbody>\n",
       "</table>\n",
       "</div>"
      ],
      "text/plain": [
       "   Путь, км  Масса груза, кг Терминал отгрузки Категория груза  Гос номер  \\\n",
       "0        67             2655            Восток     Категория K   Е954АА97   \n",
       "1        70             2961            Восток     Категория C   О625АМ90   \n",
       "2        37             2546                Юг     Категория K  В484ВЕ550   \n",
       "5        89             2075                Юг     Категория C   Х112ОТ97   \n",
       "7        84              849            Восток     Категория C  Р232ТН750   \n",
       "\n",
       "   Макс. грузоподъёмность, кг  Стоимость пробега / км, руб.  \\\n",
       "0                        3000                            72   \n",
       "1                        3000                            72   \n",
       "2                        3000                            72   \n",
       "5                        3000                            72   \n",
       "7                        3000                            72   \n",
       "\n",
       "   Затраты на одну доставку, руб  Стоимость доставки за 1 кг  \n",
       "0                           4824                    1.816949  \n",
       "1                           5040                    1.702128  \n",
       "2                           2664                    1.046347  \n",
       "5                           6408                    3.088193  \n",
       "7                           6048                    7.123675  "
      ]
     },
     "execution_count": 38,
     "metadata": {},
     "output_type": "execute_result"
    }
   ],
   "source": [
    "weight_3000.head()"
   ]
  },
  {
   "cell_type": "code",
   "execution_count": 39,
   "id": "92050d07",
   "metadata": {},
   "outputs": [
    {
     "name": "stdout",
     "output_type": "stream",
     "text": [
      "<class 'pandas.core.frame.DataFrame'>\n",
      "Int64Index: 7051 entries, 0 to 23641\n",
      "Data columns (total 9 columns):\n",
      " #   Column                         Non-Null Count  Dtype  \n",
      "---  ------                         --------------  -----  \n",
      " 0   Путь, км                       7051 non-null   int64  \n",
      " 1   Масса груза, кг                7051 non-null   int64  \n",
      " 2   Терминал отгрузки              7051 non-null   object \n",
      " 3   Категория груза                7051 non-null   object \n",
      " 4   Гос номер                      7051 non-null   object \n",
      " 5   Макс. грузоподъёмность, кг     7051 non-null   int64  \n",
      " 6   Стоимость пробега / км, руб.   7051 non-null   int64  \n",
      " 7   Затраты на одну доставку, руб  7051 non-null   int64  \n",
      " 8   Стоимость доставки за 1 кг     7051 non-null   float64\n",
      "dtypes: float64(1), int64(5), object(3)\n",
      "memory usage: 550.9+ KB\n"
     ]
    }
   ],
   "source": [
    "weight_3000.info()"
   ]
  },
  {
   "cell_type": "code",
   "execution_count": 40,
   "id": "9ec300ed",
   "metadata": {},
   "outputs": [
    {
     "data": {
      "text/plain": [
       "4.912565336390491"
      ]
     },
     "execution_count": 40,
     "metadata": {},
     "output_type": "execute_result"
    }
   ],
   "source": [
    "weight_3000['Стоимость доставки за 1 кг'].mean()"
   ]
  },
  {
   "cell_type": "code",
   "execution_count": 41,
   "id": "0dcc09ef",
   "metadata": {},
   "outputs": [
    {
     "data": {
      "text/plain": [
       "6077.714934051907"
      ]
     },
     "execution_count": 41,
     "metadata": {},
     "output_type": "execute_result"
    }
   ],
   "source": [
    "weight_3000['Затраты на одну доставку, руб'].mean()"
   ]
  },
  {
   "cell_type": "code",
   "execution_count": null,
   "id": "42a0ccaa",
   "metadata": {},
   "outputs": [],
   "source": []
  },
  {
   "cell_type": "markdown",
   "id": "a05ad225",
   "metadata": {},
   "source": [
    "# Поиск неоптимальных перевозок\n",
    "\n",
    "Здесь проходила фильтрация по массе груза, которая не превышала 500 кг, но при этом при перевозке использовались машины, чья грузоподъемность была выше 500 кг (т.е. 1500 или 3000), что увеличивает стоимость доставки за 1 кг, делая перевозку неоптимальной."
   ]
  },
  {
   "cell_type": "code",
   "execution_count": 42,
   "id": "967cb652",
   "metadata": {},
   "outputs": [],
   "source": [
    "non_optimal = df[(df['Масса груза, кг'] <= 500)&(df['Макс. грузоподъёмность, кг'] > 500)]"
   ]
  },
  {
   "cell_type": "code",
   "execution_count": 43,
   "id": "5bddb872",
   "metadata": {},
   "outputs": [
    {
     "data": {
      "text/html": [
       "<div>\n",
       "<style scoped>\n",
       "    .dataframe tbody tr th:only-of-type {\n",
       "        vertical-align: middle;\n",
       "    }\n",
       "\n",
       "    .dataframe tbody tr th {\n",
       "        vertical-align: top;\n",
       "    }\n",
       "\n",
       "    .dataframe thead th {\n",
       "        text-align: right;\n",
       "    }\n",
       "</style>\n",
       "<table border=\"1\" class=\"dataframe\">\n",
       "  <thead>\n",
       "    <tr style=\"text-align: right;\">\n",
       "      <th></th>\n",
       "      <th>Путь, км</th>\n",
       "      <th>Масса груза, кг</th>\n",
       "      <th>Терминал отгрузки</th>\n",
       "      <th>Категория груза</th>\n",
       "      <th>Гос номер</th>\n",
       "      <th>Макс. грузоподъёмность, кг</th>\n",
       "      <th>Стоимость пробега / км, руб.</th>\n",
       "      <th>Затраты на одну доставку, руб</th>\n",
       "      <th>Стоимость доставки за 1 кг</th>\n",
       "    </tr>\n",
       "  </thead>\n",
       "  <tbody>\n",
       "    <tr>\n",
       "      <th>3</th>\n",
       "      <td>95</td>\n",
       "      <td>399</td>\n",
       "      <td>Север</td>\n",
       "      <td>Категория C</td>\n",
       "      <td>Р449ЕЕ190</td>\n",
       "      <td>1500</td>\n",
       "      <td>51</td>\n",
       "      <td>4845</td>\n",
       "      <td>12.142857</td>\n",
       "    </tr>\n",
       "    <tr>\n",
       "      <th>13</th>\n",
       "      <td>143</td>\n",
       "      <td>201</td>\n",
       "      <td>Юг</td>\n",
       "      <td>Категория D</td>\n",
       "      <td>А914ХХ190</td>\n",
       "      <td>1500</td>\n",
       "      <td>51</td>\n",
       "      <td>7293</td>\n",
       "      <td>36.283582</td>\n",
       "    </tr>\n",
       "    <tr>\n",
       "      <th>28</th>\n",
       "      <td>82</td>\n",
       "      <td>298</td>\n",
       "      <td>Восток</td>\n",
       "      <td>Категория C</td>\n",
       "      <td>В255ЕТ750</td>\n",
       "      <td>1500</td>\n",
       "      <td>51</td>\n",
       "      <td>4182</td>\n",
       "      <td>14.033557</td>\n",
       "    </tr>\n",
       "    <tr>\n",
       "      <th>42</th>\n",
       "      <td>132</td>\n",
       "      <td>203</td>\n",
       "      <td>Восток</td>\n",
       "      <td>Категория K</td>\n",
       "      <td>Х306ОУ550</td>\n",
       "      <td>1500</td>\n",
       "      <td>51</td>\n",
       "      <td>6732</td>\n",
       "      <td>33.162562</td>\n",
       "    </tr>\n",
       "    <tr>\n",
       "      <th>46</th>\n",
       "      <td>76</td>\n",
       "      <td>291</td>\n",
       "      <td>Восток</td>\n",
       "      <td>Категория K</td>\n",
       "      <td>Р334РМ750</td>\n",
       "      <td>1500</td>\n",
       "      <td>51</td>\n",
       "      <td>3876</td>\n",
       "      <td>13.319588</td>\n",
       "    </tr>\n",
       "    <tr>\n",
       "      <th>...</th>\n",
       "      <td>...</td>\n",
       "      <td>...</td>\n",
       "      <td>...</td>\n",
       "      <td>...</td>\n",
       "      <td>...</td>\n",
       "      <td>...</td>\n",
       "      <td>...</td>\n",
       "      <td>...</td>\n",
       "      <td>...</td>\n",
       "    </tr>\n",
       "    <tr>\n",
       "      <th>23633</th>\n",
       "      <td>115</td>\n",
       "      <td>278</td>\n",
       "      <td>Восток</td>\n",
       "      <td>Категория K</td>\n",
       "      <td>С194РЕ199</td>\n",
       "      <td>1500</td>\n",
       "      <td>51</td>\n",
       "      <td>5865</td>\n",
       "      <td>21.097122</td>\n",
       "    </tr>\n",
       "    <tr>\n",
       "      <th>23635</th>\n",
       "      <td>91</td>\n",
       "      <td>345</td>\n",
       "      <td>Юг</td>\n",
       "      <td>Категория K</td>\n",
       "      <td>О372КА797</td>\n",
       "      <td>1500</td>\n",
       "      <td>51</td>\n",
       "      <td>4641</td>\n",
       "      <td>13.452174</td>\n",
       "    </tr>\n",
       "    <tr>\n",
       "      <th>23641</th>\n",
       "      <td>32</td>\n",
       "      <td>403</td>\n",
       "      <td>Восток</td>\n",
       "      <td>Категория K</td>\n",
       "      <td>О625АМ90</td>\n",
       "      <td>3000</td>\n",
       "      <td>72</td>\n",
       "      <td>2304</td>\n",
       "      <td>5.717122</td>\n",
       "    </tr>\n",
       "    <tr>\n",
       "      <th>23647</th>\n",
       "      <td>39</td>\n",
       "      <td>440</td>\n",
       "      <td>Юг</td>\n",
       "      <td>Категория C</td>\n",
       "      <td>О691ХТ77</td>\n",
       "      <td>1500</td>\n",
       "      <td>51</td>\n",
       "      <td>1989</td>\n",
       "      <td>4.520455</td>\n",
       "    </tr>\n",
       "    <tr>\n",
       "      <th>23649</th>\n",
       "      <td>20</td>\n",
       "      <td>274</td>\n",
       "      <td>Восток</td>\n",
       "      <td>Категория K</td>\n",
       "      <td>Е694ТТ177</td>\n",
       "      <td>1500</td>\n",
       "      <td>51</td>\n",
       "      <td>1020</td>\n",
       "      <td>3.722628</td>\n",
       "    </tr>\n",
       "  </tbody>\n",
       "</table>\n",
       "<p>3146 rows × 9 columns</p>\n",
       "</div>"
      ],
      "text/plain": [
       "       Путь, км  Масса груза, кг Терминал отгрузки Категория груза  Гос номер  \\\n",
       "3            95              399             Север     Категория C  Р449ЕЕ190   \n",
       "13          143              201                Юг     Категория D  А914ХХ190   \n",
       "28           82              298            Восток     Категория C  В255ЕТ750   \n",
       "42          132              203            Восток     Категория K  Х306ОУ550   \n",
       "46           76              291            Восток     Категория K  Р334РМ750   \n",
       "...         ...              ...               ...             ...        ...   \n",
       "23633       115              278            Восток     Категория K  С194РЕ199   \n",
       "23635        91              345                Юг     Категория K  О372КА797   \n",
       "23641        32              403            Восток     Категория K   О625АМ90   \n",
       "23647        39              440                Юг     Категория C   О691ХТ77   \n",
       "23649        20              274            Восток     Категория K  Е694ТТ177   \n",
       "\n",
       "       Макс. грузоподъёмность, кг  Стоимость пробега / км, руб.  \\\n",
       "3                            1500                            51   \n",
       "13                           1500                            51   \n",
       "28                           1500                            51   \n",
       "42                           1500                            51   \n",
       "46                           1500                            51   \n",
       "...                           ...                           ...   \n",
       "23633                        1500                            51   \n",
       "23635                        1500                            51   \n",
       "23641                        3000                            72   \n",
       "23647                        1500                            51   \n",
       "23649                        1500                            51   \n",
       "\n",
       "       Затраты на одну доставку, руб  Стоимость доставки за 1 кг  \n",
       "3                               4845                   12.142857  \n",
       "13                              7293                   36.283582  \n",
       "28                              4182                   14.033557  \n",
       "42                              6732                   33.162562  \n",
       "46                              3876                   13.319588  \n",
       "...                              ...                         ...  \n",
       "23633                           5865                   21.097122  \n",
       "23635                           4641                   13.452174  \n",
       "23641                           2304                    5.717122  \n",
       "23647                           1989                    4.520455  \n",
       "23649                           1020                    3.722628  \n",
       "\n",
       "[3146 rows x 9 columns]"
      ]
     },
     "execution_count": 43,
     "metadata": {},
     "output_type": "execute_result"
    }
   ],
   "source": [
    "non_optimal"
   ]
  },
  {
   "cell_type": "code",
   "execution_count": 44,
   "id": "1712e8a9",
   "metadata": {},
   "outputs": [
    {
     "name": "stdout",
     "output_type": "stream",
     "text": [
      "<class 'pandas.core.frame.DataFrame'>\n",
      "Int64Index: 3146 entries, 3 to 23649\n",
      "Data columns (total 9 columns):\n",
      " #   Column                         Non-Null Count  Dtype  \n",
      "---  ------                         --------------  -----  \n",
      " 0   Путь, км                       3146 non-null   int64  \n",
      " 1   Масса груза, кг                3146 non-null   int64  \n",
      " 2   Терминал отгрузки              3146 non-null   object \n",
      " 3   Категория груза                3146 non-null   object \n",
      " 4   Гос номер                      3146 non-null   object \n",
      " 5   Макс. грузоподъёмность, кг     3146 non-null   int64  \n",
      " 6   Стоимость пробега / км, руб.   3146 non-null   int64  \n",
      " 7   Затраты на одну доставку, руб  3146 non-null   int64  \n",
      " 8   Стоимость доставки за 1 кг     3146 non-null   float64\n",
      "dtypes: float64(1), int64(5), object(3)\n",
      "memory usage: 245.8+ KB\n"
     ]
    }
   ],
   "source": [
    "#Нерациональные перевозки \n",
    "non_optimal.info()"
   ]
  },
  {
   "cell_type": "code",
   "execution_count": 45,
   "id": "9647f61f",
   "metadata": {},
   "outputs": [
    {
     "data": {
      "text/html": [
       "<div>\n",
       "<style scoped>\n",
       "    .dataframe tbody tr th:only-of-type {\n",
       "        vertical-align: middle;\n",
       "    }\n",
       "\n",
       "    .dataframe tbody tr th {\n",
       "        vertical-align: top;\n",
       "    }\n",
       "\n",
       "    .dataframe thead th {\n",
       "        text-align: right;\n",
       "    }\n",
       "</style>\n",
       "<table border=\"1\" class=\"dataframe\">\n",
       "  <thead>\n",
       "    <tr style=\"text-align: right;\">\n",
       "      <th></th>\n",
       "      <th>Путь, км</th>\n",
       "      <th>Масса груза, кг</th>\n",
       "      <th>Макс. грузоподъёмность, кг</th>\n",
       "      <th>Стоимость пробега / км, руб.</th>\n",
       "      <th>Затраты на одну доставку, руб</th>\n",
       "      <th>Стоимость доставки за 1 кг</th>\n",
       "    </tr>\n",
       "  </thead>\n",
       "  <tbody>\n",
       "    <tr>\n",
       "      <th>count</th>\n",
       "      <td>3146.000000</td>\n",
       "      <td>3146.00000</td>\n",
       "      <td>3146.000000</td>\n",
       "      <td>3146.000000</td>\n",
       "      <td>3146.000000</td>\n",
       "      <td>3146.000000</td>\n",
       "    </tr>\n",
       "    <tr>\n",
       "      <th>mean</th>\n",
       "      <td>84.966624</td>\n",
       "      <td>301.96726</td>\n",
       "      <td>1724.570884</td>\n",
       "      <td>54.143992</td>\n",
       "      <td>4608.273681</td>\n",
       "      <td>18.423331</td>\n",
       "    </tr>\n",
       "    <tr>\n",
       "      <th>std</th>\n",
       "      <td>37.915593</td>\n",
       "      <td>117.45328</td>\n",
       "      <td>535.271255</td>\n",
       "      <td>7.493798</td>\n",
       "      <td>2196.157690</td>\n",
       "      <td>13.186847</td>\n",
       "    </tr>\n",
       "    <tr>\n",
       "      <th>min</th>\n",
       "      <td>20.000000</td>\n",
       "      <td>100.00000</td>\n",
       "      <td>1500.000000</td>\n",
       "      <td>51.000000</td>\n",
       "      <td>1020.000000</td>\n",
       "      <td>2.040000</td>\n",
       "    </tr>\n",
       "    <tr>\n",
       "      <th>25%</th>\n",
       "      <td>52.000000</td>\n",
       "      <td>199.25000</td>\n",
       "      <td>1500.000000</td>\n",
       "      <td>51.000000</td>\n",
       "      <td>2754.000000</td>\n",
       "      <td>9.272727</td>\n",
       "    </tr>\n",
       "    <tr>\n",
       "      <th>50%</th>\n",
       "      <td>86.000000</td>\n",
       "      <td>302.00000</td>\n",
       "      <td>1500.000000</td>\n",
       "      <td>51.000000</td>\n",
       "      <td>4590.000000</td>\n",
       "      <td>14.965848</td>\n",
       "    </tr>\n",
       "    <tr>\n",
       "      <th>75%</th>\n",
       "      <td>118.000000</td>\n",
       "      <td>402.00000</td>\n",
       "      <td>1500.000000</td>\n",
       "      <td>51.000000</td>\n",
       "      <td>6273.000000</td>\n",
       "      <td>23.306612</td>\n",
       "    </tr>\n",
       "    <tr>\n",
       "      <th>max</th>\n",
       "      <td>150.000000</td>\n",
       "      <td>500.00000</td>\n",
       "      <td>3000.000000</td>\n",
       "      <td>72.000000</td>\n",
       "      <td>10800.000000</td>\n",
       "      <td>102.352941</td>\n",
       "    </tr>\n",
       "  </tbody>\n",
       "</table>\n",
       "</div>"
      ],
      "text/plain": [
       "          Путь, км  Масса груза, кг  Макс. грузоподъёмность, кг  \\\n",
       "count  3146.000000       3146.00000                 3146.000000   \n",
       "mean     84.966624        301.96726                 1724.570884   \n",
       "std      37.915593        117.45328                  535.271255   \n",
       "min      20.000000        100.00000                 1500.000000   \n",
       "25%      52.000000        199.25000                 1500.000000   \n",
       "50%      86.000000        302.00000                 1500.000000   \n",
       "75%     118.000000        402.00000                 1500.000000   \n",
       "max     150.000000        500.00000                 3000.000000   \n",
       "\n",
       "       Стоимость пробега / км, руб.  Затраты на одну доставку, руб  \\\n",
       "count                   3146.000000                    3146.000000   \n",
       "mean                      54.143992                    4608.273681   \n",
       "std                        7.493798                    2196.157690   \n",
       "min                       51.000000                    1020.000000   \n",
       "25%                       51.000000                    2754.000000   \n",
       "50%                       51.000000                    4590.000000   \n",
       "75%                       51.000000                    6273.000000   \n",
       "max                       72.000000                   10800.000000   \n",
       "\n",
       "       Стоимость доставки за 1 кг  \n",
       "count                 3146.000000  \n",
       "mean                    18.423331  \n",
       "std                     13.186847  \n",
       "min                      2.040000  \n",
       "25%                      9.272727  \n",
       "50%                     14.965848  \n",
       "75%                     23.306612  \n",
       "max                    102.352941  "
      ]
     },
     "execution_count": 45,
     "metadata": {},
     "output_type": "execute_result"
    }
   ],
   "source": [
    "non_optimal.describe()"
   ]
  },
  {
   "cell_type": "code",
   "execution_count": 46,
   "id": "4e6da44e",
   "metadata": {},
   "outputs": [
    {
     "name": "stdout",
     "output_type": "stream",
     "text": [
      "267305\n"
     ]
    }
   ],
   "source": [
    "summ_km2 = non_optimal['Путь, км'].sum()\n",
    "print(summ_km2)"
   ]
  },
  {
   "cell_type": "code",
   "execution_count": 47,
   "id": "29cfaa4f",
   "metadata": {},
   "outputs": [
    {
     "data": {
      "text/plain": [
       "445.5083333333333"
      ]
     },
     "execution_count": 47,
     "metadata": {},
     "output_type": "execute_result"
    }
   ],
   "source": [
    "summ_km2/600"
   ]
  },
  {
   "cell_type": "code",
   "execution_count": 48,
   "id": "c652e357",
   "metadata": {},
   "outputs": [],
   "source": [
    "non_optimal_grouped = non_optimal.groupby('Категория груза')"
   ]
  },
  {
   "cell_type": "code",
   "execution_count": 49,
   "id": "11b1ce9f",
   "metadata": {},
   "outputs": [
    {
     "data": {
      "text/plain": [
       "Категория груза\n",
       "Категория C    1908\n",
       "Категория D     316\n",
       "Категория K     922\n",
       "Name: Категория груза, dtype: int64"
      ]
     },
     "execution_count": 49,
     "metadata": {},
     "output_type": "execute_result"
    }
   ],
   "source": [
    "non_optimal_grouped['Категория груза'].count()"
   ]
  },
  {
   "cell_type": "code",
   "execution_count": 50,
   "id": "36a776cc",
   "metadata": {},
   "outputs": [],
   "source": [
    "non_optimal_grouped2 = non_optimal.groupby('Терминал отгрузки')"
   ]
  },
  {
   "cell_type": "code",
   "execution_count": 51,
   "id": "52c10c1d",
   "metadata": {},
   "outputs": [
    {
     "data": {
      "text/plain": [
       "Терминал отгрузки\n",
       "Восток    1515\n",
       "Запад      161\n",
       "Север      349\n",
       "Юг        1121\n",
       "Name: Терминал отгрузки, dtype: int64"
      ]
     },
     "execution_count": 51,
     "metadata": {},
     "output_type": "execute_result"
    }
   ],
   "source": [
    "non_optimal_grouped2['Терминал отгрузки'].count()"
   ]
  },
  {
   "cell_type": "code",
   "execution_count": 52,
   "id": "80ba2f78",
   "metadata": {},
   "outputs": [
    {
     "data": {
      "text/plain": [
       "Терминал отгрузки\n",
       "Восток    128377\n",
       "Запад      13151\n",
       "Север      29663\n",
       "Юг         96114\n",
       "Name: Путь, км, dtype: int64"
      ]
     },
     "execution_count": 52,
     "metadata": {},
     "output_type": "execute_result"
    }
   ],
   "source": [
    "non_optimal_grouped2['Путь, км'].sum()"
   ]
  },
  {
   "cell_type": "code",
   "execution_count": 53,
   "id": "74004837",
   "metadata": {},
   "outputs": [
    {
     "data": {
      "text/plain": [
       "84.73729372937294"
      ]
     },
     "execution_count": 53,
     "metadata": {},
     "output_type": "execute_result"
    }
   ],
   "source": [
    "128377/1515 \n",
    "# в среднем одна поездка - "
   ]
  },
  {
   "cell_type": "code",
   "execution_count": 54,
   "id": "6b680c91",
   "metadata": {},
   "outputs": [
    {
     "data": {
      "text/plain": [
       "4.1506849315068495"
      ]
     },
     "execution_count": 54,
     "metadata": {},
     "output_type": "execute_result"
    }
   ],
   "source": [
    "1515/365"
   ]
  },
  {
   "cell_type": "code",
   "execution_count": 55,
   "id": "13f210d5",
   "metadata": {},
   "outputs": [
    {
     "name": "stderr",
     "output_type": "stream",
     "text": [
      "C:\\Users\\oxana\\AppData\\Local\\Temp\\ipykernel_22072\\2983788350.py:1: SettingWithCopyWarning: \n",
      "A value is trying to be set on a copy of a slice from a DataFrame.\n",
      "Try using .loc[row_indexer,col_indexer] = value instead\n",
      "\n",
      "See the caveats in the documentation: https://pandas.pydata.org/pandas-docs/stable/user_guide/indexing.html#returning-a-view-versus-a-copy\n",
      "  non_optimal['Затраты на доставку_оптимальные, руб'] = non_optimal['Путь, км']*37\n"
     ]
    }
   ],
   "source": [
    "non_optimal['Затраты на доставку_оптимальные, руб'] = non_optimal['Путь, км']*37"
   ]
  },
  {
   "cell_type": "code",
   "execution_count": 56,
   "id": "c9932b03",
   "metadata": {},
   "outputs": [
    {
     "data": {
      "text/html": [
       "<div>\n",
       "<style scoped>\n",
       "    .dataframe tbody tr th:only-of-type {\n",
       "        vertical-align: middle;\n",
       "    }\n",
       "\n",
       "    .dataframe tbody tr th {\n",
       "        vertical-align: top;\n",
       "    }\n",
       "\n",
       "    .dataframe thead th {\n",
       "        text-align: right;\n",
       "    }\n",
       "</style>\n",
       "<table border=\"1\" class=\"dataframe\">\n",
       "  <thead>\n",
       "    <tr style=\"text-align: right;\">\n",
       "      <th></th>\n",
       "      <th>Путь, км</th>\n",
       "      <th>Масса груза, кг</th>\n",
       "      <th>Терминал отгрузки</th>\n",
       "      <th>Категория груза</th>\n",
       "      <th>Гос номер</th>\n",
       "      <th>Макс. грузоподъёмность, кг</th>\n",
       "      <th>Стоимость пробега / км, руб.</th>\n",
       "      <th>Затраты на одну доставку, руб</th>\n",
       "      <th>Стоимость доставки за 1 кг</th>\n",
       "      <th>Затраты на доставку_оптимальные, руб</th>\n",
       "    </tr>\n",
       "  </thead>\n",
       "  <tbody>\n",
       "    <tr>\n",
       "      <th>3</th>\n",
       "      <td>95</td>\n",
       "      <td>399</td>\n",
       "      <td>Север</td>\n",
       "      <td>Категория C</td>\n",
       "      <td>Р449ЕЕ190</td>\n",
       "      <td>1500</td>\n",
       "      <td>51</td>\n",
       "      <td>4845</td>\n",
       "      <td>12.142857</td>\n",
       "      <td>3515</td>\n",
       "    </tr>\n",
       "    <tr>\n",
       "      <th>13</th>\n",
       "      <td>143</td>\n",
       "      <td>201</td>\n",
       "      <td>Юг</td>\n",
       "      <td>Категория D</td>\n",
       "      <td>А914ХХ190</td>\n",
       "      <td>1500</td>\n",
       "      <td>51</td>\n",
       "      <td>7293</td>\n",
       "      <td>36.283582</td>\n",
       "      <td>5291</td>\n",
       "    </tr>\n",
       "    <tr>\n",
       "      <th>28</th>\n",
       "      <td>82</td>\n",
       "      <td>298</td>\n",
       "      <td>Восток</td>\n",
       "      <td>Категория C</td>\n",
       "      <td>В255ЕТ750</td>\n",
       "      <td>1500</td>\n",
       "      <td>51</td>\n",
       "      <td>4182</td>\n",
       "      <td>14.033557</td>\n",
       "      <td>3034</td>\n",
       "    </tr>\n",
       "    <tr>\n",
       "      <th>42</th>\n",
       "      <td>132</td>\n",
       "      <td>203</td>\n",
       "      <td>Восток</td>\n",
       "      <td>Категория K</td>\n",
       "      <td>Х306ОУ550</td>\n",
       "      <td>1500</td>\n",
       "      <td>51</td>\n",
       "      <td>6732</td>\n",
       "      <td>33.162562</td>\n",
       "      <td>4884</td>\n",
       "    </tr>\n",
       "    <tr>\n",
       "      <th>46</th>\n",
       "      <td>76</td>\n",
       "      <td>291</td>\n",
       "      <td>Восток</td>\n",
       "      <td>Категория K</td>\n",
       "      <td>Р334РМ750</td>\n",
       "      <td>1500</td>\n",
       "      <td>51</td>\n",
       "      <td>3876</td>\n",
       "      <td>13.319588</td>\n",
       "      <td>2812</td>\n",
       "    </tr>\n",
       "    <tr>\n",
       "      <th>...</th>\n",
       "      <td>...</td>\n",
       "      <td>...</td>\n",
       "      <td>...</td>\n",
       "      <td>...</td>\n",
       "      <td>...</td>\n",
       "      <td>...</td>\n",
       "      <td>...</td>\n",
       "      <td>...</td>\n",
       "      <td>...</td>\n",
       "      <td>...</td>\n",
       "    </tr>\n",
       "    <tr>\n",
       "      <th>23633</th>\n",
       "      <td>115</td>\n",
       "      <td>278</td>\n",
       "      <td>Восток</td>\n",
       "      <td>Категория K</td>\n",
       "      <td>С194РЕ199</td>\n",
       "      <td>1500</td>\n",
       "      <td>51</td>\n",
       "      <td>5865</td>\n",
       "      <td>21.097122</td>\n",
       "      <td>4255</td>\n",
       "    </tr>\n",
       "    <tr>\n",
       "      <th>23635</th>\n",
       "      <td>91</td>\n",
       "      <td>345</td>\n",
       "      <td>Юг</td>\n",
       "      <td>Категория K</td>\n",
       "      <td>О372КА797</td>\n",
       "      <td>1500</td>\n",
       "      <td>51</td>\n",
       "      <td>4641</td>\n",
       "      <td>13.452174</td>\n",
       "      <td>3367</td>\n",
       "    </tr>\n",
       "    <tr>\n",
       "      <th>23641</th>\n",
       "      <td>32</td>\n",
       "      <td>403</td>\n",
       "      <td>Восток</td>\n",
       "      <td>Категория K</td>\n",
       "      <td>О625АМ90</td>\n",
       "      <td>3000</td>\n",
       "      <td>72</td>\n",
       "      <td>2304</td>\n",
       "      <td>5.717122</td>\n",
       "      <td>1184</td>\n",
       "    </tr>\n",
       "    <tr>\n",
       "      <th>23647</th>\n",
       "      <td>39</td>\n",
       "      <td>440</td>\n",
       "      <td>Юг</td>\n",
       "      <td>Категория C</td>\n",
       "      <td>О691ХТ77</td>\n",
       "      <td>1500</td>\n",
       "      <td>51</td>\n",
       "      <td>1989</td>\n",
       "      <td>4.520455</td>\n",
       "      <td>1443</td>\n",
       "    </tr>\n",
       "    <tr>\n",
       "      <th>23649</th>\n",
       "      <td>20</td>\n",
       "      <td>274</td>\n",
       "      <td>Восток</td>\n",
       "      <td>Категория K</td>\n",
       "      <td>Е694ТТ177</td>\n",
       "      <td>1500</td>\n",
       "      <td>51</td>\n",
       "      <td>1020</td>\n",
       "      <td>3.722628</td>\n",
       "      <td>740</td>\n",
       "    </tr>\n",
       "  </tbody>\n",
       "</table>\n",
       "<p>3146 rows × 10 columns</p>\n",
       "</div>"
      ],
      "text/plain": [
       "       Путь, км  Масса груза, кг Терминал отгрузки Категория груза  Гос номер  \\\n",
       "3            95              399             Север     Категория C  Р449ЕЕ190   \n",
       "13          143              201                Юг     Категория D  А914ХХ190   \n",
       "28           82              298            Восток     Категория C  В255ЕТ750   \n",
       "42          132              203            Восток     Категория K  Х306ОУ550   \n",
       "46           76              291            Восток     Категория K  Р334РМ750   \n",
       "...         ...              ...               ...             ...        ...   \n",
       "23633       115              278            Восток     Категория K  С194РЕ199   \n",
       "23635        91              345                Юг     Категория K  О372КА797   \n",
       "23641        32              403            Восток     Категория K   О625АМ90   \n",
       "23647        39              440                Юг     Категория C   О691ХТ77   \n",
       "23649        20              274            Восток     Категория K  Е694ТТ177   \n",
       "\n",
       "       Макс. грузоподъёмность, кг  Стоимость пробега / км, руб.  \\\n",
       "3                            1500                            51   \n",
       "13                           1500                            51   \n",
       "28                           1500                            51   \n",
       "42                           1500                            51   \n",
       "46                           1500                            51   \n",
       "...                           ...                           ...   \n",
       "23633                        1500                            51   \n",
       "23635                        1500                            51   \n",
       "23641                        3000                            72   \n",
       "23647                        1500                            51   \n",
       "23649                        1500                            51   \n",
       "\n",
       "       Затраты на одну доставку, руб  Стоимость доставки за 1 кг  \\\n",
       "3                               4845                   12.142857   \n",
       "13                              7293                   36.283582   \n",
       "28                              4182                   14.033557   \n",
       "42                              6732                   33.162562   \n",
       "46                              3876                   13.319588   \n",
       "...                              ...                         ...   \n",
       "23633                           5865                   21.097122   \n",
       "23635                           4641                   13.452174   \n",
       "23641                           2304                    5.717122   \n",
       "23647                           1989                    4.520455   \n",
       "23649                           1020                    3.722628   \n",
       "\n",
       "       Затраты на доставку_оптимальные, руб  \n",
       "3                                      3515  \n",
       "13                                     5291  \n",
       "28                                     3034  \n",
       "42                                     4884  \n",
       "46                                     2812  \n",
       "...                                     ...  \n",
       "23633                                  4255  \n",
       "23635                                  3367  \n",
       "23641                                  1184  \n",
       "23647                                  1443  \n",
       "23649                                   740  \n",
       "\n",
       "[3146 rows x 10 columns]"
      ]
     },
     "execution_count": 56,
     "metadata": {},
     "output_type": "execute_result"
    }
   ],
   "source": [
    "non_optimal"
   ]
  },
  {
   "cell_type": "code",
   "execution_count": 57,
   "id": "204aa54d",
   "metadata": {},
   "outputs": [
    {
     "data": {
      "text/plain": [
       "13.30232558139535"
      ]
     },
     "execution_count": 57,
     "metadata": {},
     "output_type": "execute_result"
    }
   ],
   "source": [
    "3146/23650*100"
   ]
  },
  {
   "cell_type": "code",
   "execution_count": 58,
   "id": "1cffaf08",
   "metadata": {},
   "outputs": [
    {
     "name": "stderr",
     "output_type": "stream",
     "text": [
      "C:\\Users\\oxana\\AppData\\Local\\Temp\\ipykernel_22072\\940698302.py:1: SettingWithCopyWarning: \n",
      "A value is trying to be set on a copy of a slice from a DataFrame.\n",
      "Try using .loc[row_indexer,col_indexer] = value instead\n",
      "\n",
      "See the caveats in the documentation: https://pandas.pydata.org/pandas-docs/stable/user_guide/indexing.html#returning-a-view-versus-a-copy\n",
      "  non_optimal['Переплата'] = non_optimal['Затраты на одну доставку, руб'] - non_optimal['Затраты на доставку_оптимальные, руб']\n"
     ]
    }
   ],
   "source": [
    "non_optimal['Переплата'] = non_optimal['Затраты на одну доставку, руб'] - non_optimal['Затраты на доставку_оптимальные, руб']"
   ]
  },
  {
   "cell_type": "code",
   "execution_count": 59,
   "id": "1844eb36",
   "metadata": {},
   "outputs": [
    {
     "data": {
      "text/html": [
       "<div>\n",
       "<style scoped>\n",
       "    .dataframe tbody tr th:only-of-type {\n",
       "        vertical-align: middle;\n",
       "    }\n",
       "\n",
       "    .dataframe tbody tr th {\n",
       "        vertical-align: top;\n",
       "    }\n",
       "\n",
       "    .dataframe thead th {\n",
       "        text-align: right;\n",
       "    }\n",
       "</style>\n",
       "<table border=\"1\" class=\"dataframe\">\n",
       "  <thead>\n",
       "    <tr style=\"text-align: right;\">\n",
       "      <th></th>\n",
       "      <th>Переплата</th>\n",
       "    </tr>\n",
       "  </thead>\n",
       "  <tbody>\n",
       "    <tr>\n",
       "      <th>3</th>\n",
       "      <td>1330</td>\n",
       "    </tr>\n",
       "    <tr>\n",
       "      <th>13</th>\n",
       "      <td>2002</td>\n",
       "    </tr>\n",
       "    <tr>\n",
       "      <th>28</th>\n",
       "      <td>1148</td>\n",
       "    </tr>\n",
       "    <tr>\n",
       "      <th>42</th>\n",
       "      <td>1848</td>\n",
       "    </tr>\n",
       "    <tr>\n",
       "      <th>46</th>\n",
       "      <td>1064</td>\n",
       "    </tr>\n",
       "    <tr>\n",
       "      <th>...</th>\n",
       "      <td>...</td>\n",
       "    </tr>\n",
       "    <tr>\n",
       "      <th>23633</th>\n",
       "      <td>1610</td>\n",
       "    </tr>\n",
       "    <tr>\n",
       "      <th>23635</th>\n",
       "      <td>1274</td>\n",
       "    </tr>\n",
       "    <tr>\n",
       "      <th>23641</th>\n",
       "      <td>1120</td>\n",
       "    </tr>\n",
       "    <tr>\n",
       "      <th>23647</th>\n",
       "      <td>546</td>\n",
       "    </tr>\n",
       "    <tr>\n",
       "      <th>23649</th>\n",
       "      <td>280</td>\n",
       "    </tr>\n",
       "  </tbody>\n",
       "</table>\n",
       "<p>3146 rows × 1 columns</p>\n",
       "</div>"
      ],
      "text/plain": [
       "       Переплата\n",
       "3           1330\n",
       "13          2002\n",
       "28          1148\n",
       "42          1848\n",
       "46          1064\n",
       "...          ...\n",
       "23633       1610\n",
       "23635       1274\n",
       "23641       1120\n",
       "23647        546\n",
       "23649        280\n",
       "\n",
       "[3146 rows x 1 columns]"
      ]
     },
     "execution_count": 59,
     "metadata": {},
     "output_type": "execute_result"
    }
   ],
   "source": [
    "non_optimal[['Переплата']]"
   ]
  },
  {
   "cell_type": "code",
   "execution_count": 60,
   "id": "2a7836ac",
   "metadata": {},
   "outputs": [
    {
     "data": {
      "text/plain": [
       "Переплата    4607344\n",
       "dtype: int64"
      ]
     },
     "execution_count": 60,
     "metadata": {},
     "output_type": "execute_result"
    }
   ],
   "source": [
    "non_optimal[['Переплата']].sum()"
   ]
  },
  {
   "cell_type": "markdown",
   "id": "9c92c56c",
   "metadata": {},
   "source": [
    "Возможная экономия (без внедрения системы легкового электротранспорта) - 4 607 344 руб."
   ]
  },
  {
   "cell_type": "code",
   "execution_count": null,
   "id": "a57768fa",
   "metadata": {},
   "outputs": [],
   "source": []
  },
  {
   "cell_type": "code",
   "execution_count": 61,
   "id": "b18f9165",
   "metadata": {},
   "outputs": [],
   "source": [
    "#non_optimal_large = non_optimal[(non_optimal['Путь, км'] > 20)&(non_optimal['Масса груза, кг'] > 100)]"
   ]
  },
  {
   "cell_type": "code",
   "execution_count": 62,
   "id": "252ec2b8",
   "metadata": {},
   "outputs": [],
   "source": [
    "#non_optimal_large"
   ]
  },
  {
   "cell_type": "code",
   "execution_count": 63,
   "id": "9f1ac128",
   "metadata": {},
   "outputs": [],
   "source": [
    "#non_optimal_large[['Переплата']].sum()"
   ]
  },
  {
   "cell_type": "code",
   "execution_count": 64,
   "id": "f73a52b3",
   "metadata": {},
   "outputs": [],
   "source": [
    "#non_optimal_small = non_optimal[(non_optimal['Путь, км'] <= 20)|(non_optimal['Масса груза, кг'] <= 100)]"
   ]
  },
  {
   "cell_type": "code",
   "execution_count": 65,
   "id": "97a05496",
   "metadata": {},
   "outputs": [],
   "source": [
    "#non_optimal_small"
   ]
  },
  {
   "cell_type": "markdown",
   "id": "912e7d67",
   "metadata": {},
   "source": [
    "# Поиск неоптимальных перевозок 2"
   ]
  },
  {
   "cell_type": "code",
   "execution_count": 66,
   "id": "6b6effa9",
   "metadata": {},
   "outputs": [],
   "source": [
    "non_optimal2 = df[(df['Масса груза, кг'] <= 100)&(df['Путь, км'] <= 20)]"
   ]
  },
  {
   "cell_type": "code",
   "execution_count": 67,
   "id": "e2d0c21b",
   "metadata": {},
   "outputs": [
    {
     "data": {
      "text/html": [
       "<div>\n",
       "<style scoped>\n",
       "    .dataframe tbody tr th:only-of-type {\n",
       "        vertical-align: middle;\n",
       "    }\n",
       "\n",
       "    .dataframe tbody tr th {\n",
       "        vertical-align: top;\n",
       "    }\n",
       "\n",
       "    .dataframe thead th {\n",
       "        text-align: right;\n",
       "    }\n",
       "</style>\n",
       "<table border=\"1\" class=\"dataframe\">\n",
       "  <thead>\n",
       "    <tr style=\"text-align: right;\">\n",
       "      <th></th>\n",
       "      <th>Путь, км</th>\n",
       "      <th>Масса груза, кг</th>\n",
       "      <th>Терминал отгрузки</th>\n",
       "      <th>Категория груза</th>\n",
       "      <th>Гос номер</th>\n",
       "      <th>Макс. грузоподъёмность, кг</th>\n",
       "      <th>Стоимость пробега / км, руб.</th>\n",
       "      <th>Затраты на одну доставку, руб</th>\n",
       "      <th>Стоимость доставки за 1 кг</th>\n",
       "    </tr>\n",
       "  </thead>\n",
       "  <tbody>\n",
       "    <tr>\n",
       "      <th>55</th>\n",
       "      <td>4</td>\n",
       "      <td>19</td>\n",
       "      <td>Восток</td>\n",
       "      <td>Категория D</td>\n",
       "      <td>А678КС190</td>\n",
       "      <td>500</td>\n",
       "      <td>37</td>\n",
       "      <td>148</td>\n",
       "      <td>7.789474</td>\n",
       "    </tr>\n",
       "    <tr>\n",
       "      <th>77</th>\n",
       "      <td>1</td>\n",
       "      <td>46</td>\n",
       "      <td>Восток</td>\n",
       "      <td>Категория C</td>\n",
       "      <td>Х581МК77</td>\n",
       "      <td>500</td>\n",
       "      <td>37</td>\n",
       "      <td>37</td>\n",
       "      <td>0.804348</td>\n",
       "    </tr>\n",
       "    <tr>\n",
       "      <th>99</th>\n",
       "      <td>13</td>\n",
       "      <td>33</td>\n",
       "      <td>Восток</td>\n",
       "      <td>Категория C</td>\n",
       "      <td>О471СР799</td>\n",
       "      <td>500</td>\n",
       "      <td>37</td>\n",
       "      <td>481</td>\n",
       "      <td>14.575758</td>\n",
       "    </tr>\n",
       "    <tr>\n",
       "      <th>100</th>\n",
       "      <td>7</td>\n",
       "      <td>55</td>\n",
       "      <td>Юг</td>\n",
       "      <td>Категория C</td>\n",
       "      <td>Е450АА50</td>\n",
       "      <td>500</td>\n",
       "      <td>37</td>\n",
       "      <td>259</td>\n",
       "      <td>4.709091</td>\n",
       "    </tr>\n",
       "    <tr>\n",
       "      <th>109</th>\n",
       "      <td>5</td>\n",
       "      <td>98</td>\n",
       "      <td>Юг</td>\n",
       "      <td>Категория D</td>\n",
       "      <td>О865МТ150</td>\n",
       "      <td>500</td>\n",
       "      <td>37</td>\n",
       "      <td>185</td>\n",
       "      <td>1.887755</td>\n",
       "    </tr>\n",
       "    <tr>\n",
       "      <th>...</th>\n",
       "      <td>...</td>\n",
       "      <td>...</td>\n",
       "      <td>...</td>\n",
       "      <td>...</td>\n",
       "      <td>...</td>\n",
       "      <td>...</td>\n",
       "      <td>...</td>\n",
       "      <td>...</td>\n",
       "      <td>...</td>\n",
       "    </tr>\n",
       "    <tr>\n",
       "      <th>23609</th>\n",
       "      <td>9</td>\n",
       "      <td>6</td>\n",
       "      <td>Восток</td>\n",
       "      <td>Категория D</td>\n",
       "      <td>Е933НР777</td>\n",
       "      <td>500</td>\n",
       "      <td>37</td>\n",
       "      <td>333</td>\n",
       "      <td>55.500000</td>\n",
       "    </tr>\n",
       "    <tr>\n",
       "      <th>23612</th>\n",
       "      <td>3</td>\n",
       "      <td>57</td>\n",
       "      <td>Восток</td>\n",
       "      <td>Категория C</td>\n",
       "      <td>А550ММ977</td>\n",
       "      <td>500</td>\n",
       "      <td>37</td>\n",
       "      <td>111</td>\n",
       "      <td>1.947368</td>\n",
       "    </tr>\n",
       "    <tr>\n",
       "      <th>23618</th>\n",
       "      <td>9</td>\n",
       "      <td>27</td>\n",
       "      <td>Запад</td>\n",
       "      <td>Категория K</td>\n",
       "      <td>О839АК777</td>\n",
       "      <td>500</td>\n",
       "      <td>37</td>\n",
       "      <td>333</td>\n",
       "      <td>12.333333</td>\n",
       "    </tr>\n",
       "    <tr>\n",
       "      <th>23637</th>\n",
       "      <td>18</td>\n",
       "      <td>12</td>\n",
       "      <td>Запад</td>\n",
       "      <td>Категория K</td>\n",
       "      <td>Е450АА50</td>\n",
       "      <td>500</td>\n",
       "      <td>37</td>\n",
       "      <td>666</td>\n",
       "      <td>55.500000</td>\n",
       "    </tr>\n",
       "    <tr>\n",
       "      <th>23643</th>\n",
       "      <td>19</td>\n",
       "      <td>4</td>\n",
       "      <td>Запад</td>\n",
       "      <td>Категория K</td>\n",
       "      <td>А555УМ777</td>\n",
       "      <td>500</td>\n",
       "      <td>37</td>\n",
       "      <td>703</td>\n",
       "      <td>175.750000</td>\n",
       "    </tr>\n",
       "  </tbody>\n",
       "</table>\n",
       "<p>1221 rows × 9 columns</p>\n",
       "</div>"
      ],
      "text/plain": [
       "       Путь, км  Масса груза, кг Терминал отгрузки Категория груза  Гос номер  \\\n",
       "55            4               19            Восток     Категория D  А678КС190   \n",
       "77            1               46            Восток     Категория C   Х581МК77   \n",
       "99           13               33            Восток     Категория C  О471СР799   \n",
       "100           7               55                Юг     Категория C   Е450АА50   \n",
       "109           5               98                Юг     Категория D  О865МТ150   \n",
       "...         ...              ...               ...             ...        ...   \n",
       "23609         9                6            Восток     Категория D  Е933НР777   \n",
       "23612         3               57            Восток     Категория C  А550ММ977   \n",
       "23618         9               27             Запад     Категория K  О839АК777   \n",
       "23637        18               12             Запад     Категория K   Е450АА50   \n",
       "23643        19                4             Запад     Категория K  А555УМ777   \n",
       "\n",
       "       Макс. грузоподъёмность, кг  Стоимость пробега / км, руб.  \\\n",
       "55                            500                            37   \n",
       "77                            500                            37   \n",
       "99                            500                            37   \n",
       "100                           500                            37   \n",
       "109                           500                            37   \n",
       "...                           ...                           ...   \n",
       "23609                         500                            37   \n",
       "23612                         500                            37   \n",
       "23618                         500                            37   \n",
       "23637                         500                            37   \n",
       "23643                         500                            37   \n",
       "\n",
       "       Затраты на одну доставку, руб  Стоимость доставки за 1 кг  \n",
       "55                               148                    7.789474  \n",
       "77                                37                    0.804348  \n",
       "99                               481                   14.575758  \n",
       "100                              259                    4.709091  \n",
       "109                              185                    1.887755  \n",
       "...                              ...                         ...  \n",
       "23609                            333                   55.500000  \n",
       "23612                            111                    1.947368  \n",
       "23618                            333                   12.333333  \n",
       "23637                            666                   55.500000  \n",
       "23643                            703                  175.750000  \n",
       "\n",
       "[1221 rows x 9 columns]"
      ]
     },
     "execution_count": 67,
     "metadata": {},
     "output_type": "execute_result"
    }
   ],
   "source": [
    "non_optimal2"
   ]
  },
  {
   "cell_type": "code",
   "execution_count": 68,
   "id": "9695b765",
   "metadata": {},
   "outputs": [
    {
     "data": {
      "text/html": [
       "<div>\n",
       "<style scoped>\n",
       "    .dataframe tbody tr th:only-of-type {\n",
       "        vertical-align: middle;\n",
       "    }\n",
       "\n",
       "    .dataframe tbody tr th {\n",
       "        vertical-align: top;\n",
       "    }\n",
       "\n",
       "    .dataframe thead th {\n",
       "        text-align: right;\n",
       "    }\n",
       "</style>\n",
       "<table border=\"1\" class=\"dataframe\">\n",
       "  <thead>\n",
       "    <tr style=\"text-align: right;\">\n",
       "      <th></th>\n",
       "      <th>Путь, км</th>\n",
       "      <th>Масса груза, кг</th>\n",
       "      <th>Макс. грузоподъёмность, кг</th>\n",
       "      <th>Стоимость пробега / км, руб.</th>\n",
       "      <th>Затраты на одну доставку, руб</th>\n",
       "      <th>Стоимость доставки за 1 кг</th>\n",
       "    </tr>\n",
       "  </thead>\n",
       "  <tbody>\n",
       "    <tr>\n",
       "      <th>count</th>\n",
       "      <td>1221.000000</td>\n",
       "      <td>1221.000000</td>\n",
       "      <td>1221.0</td>\n",
       "      <td>1221.0</td>\n",
       "      <td>1221.000000</td>\n",
       "      <td>1221.000000</td>\n",
       "    </tr>\n",
       "    <tr>\n",
       "      <th>mean</th>\n",
       "      <td>10.425880</td>\n",
       "      <td>49.711712</td>\n",
       "      <td>500.0</td>\n",
       "      <td>37.0</td>\n",
       "      <td>385.757576</td>\n",
       "      <td>21.644310</td>\n",
       "    </tr>\n",
       "    <tr>\n",
       "      <th>std</th>\n",
       "      <td>5.819029</td>\n",
       "      <td>29.164661</td>\n",
       "      <td>0.0</td>\n",
       "      <td>0.0</td>\n",
       "      <td>215.304078</td>\n",
       "      <td>60.641811</td>\n",
       "    </tr>\n",
       "    <tr>\n",
       "      <th>min</th>\n",
       "      <td>1.000000</td>\n",
       "      <td>1.000000</td>\n",
       "      <td>500.0</td>\n",
       "      <td>37.0</td>\n",
       "      <td>37.000000</td>\n",
       "      <td>0.370000</td>\n",
       "    </tr>\n",
       "    <tr>\n",
       "      <th>25%</th>\n",
       "      <td>5.000000</td>\n",
       "      <td>25.000000</td>\n",
       "      <td>500.0</td>\n",
       "      <td>37.0</td>\n",
       "      <td>185.000000</td>\n",
       "      <td>4.000000</td>\n",
       "    </tr>\n",
       "    <tr>\n",
       "      <th>50%</th>\n",
       "      <td>10.000000</td>\n",
       "      <td>49.000000</td>\n",
       "      <td>500.0</td>\n",
       "      <td>37.0</td>\n",
       "      <td>370.000000</td>\n",
       "      <td>7.679245</td>\n",
       "    </tr>\n",
       "    <tr>\n",
       "      <th>75%</th>\n",
       "      <td>15.000000</td>\n",
       "      <td>76.000000</td>\n",
       "      <td>500.0</td>\n",
       "      <td>37.0</td>\n",
       "      <td>555.000000</td>\n",
       "      <td>16.086957</td>\n",
       "    </tr>\n",
       "    <tr>\n",
       "      <th>max</th>\n",
       "      <td>20.000000</td>\n",
       "      <td>100.000000</td>\n",
       "      <td>500.0</td>\n",
       "      <td>37.0</td>\n",
       "      <td>740.000000</td>\n",
       "      <td>703.000000</td>\n",
       "    </tr>\n",
       "  </tbody>\n",
       "</table>\n",
       "</div>"
      ],
      "text/plain": [
       "          Путь, км  Масса груза, кг  Макс. грузоподъёмность, кг  \\\n",
       "count  1221.000000      1221.000000                      1221.0   \n",
       "mean     10.425880        49.711712                       500.0   \n",
       "std       5.819029        29.164661                         0.0   \n",
       "min       1.000000         1.000000                       500.0   \n",
       "25%       5.000000        25.000000                       500.0   \n",
       "50%      10.000000        49.000000                       500.0   \n",
       "75%      15.000000        76.000000                       500.0   \n",
       "max      20.000000       100.000000                       500.0   \n",
       "\n",
       "       Стоимость пробега / км, руб.  Затраты на одну доставку, руб  \\\n",
       "count                        1221.0                    1221.000000   \n",
       "mean                           37.0                     385.757576   \n",
       "std                             0.0                     215.304078   \n",
       "min                            37.0                      37.000000   \n",
       "25%                            37.0                     185.000000   \n",
       "50%                            37.0                     370.000000   \n",
       "75%                            37.0                     555.000000   \n",
       "max                            37.0                     740.000000   \n",
       "\n",
       "       Стоимость доставки за 1 кг  \n",
       "count                 1221.000000  \n",
       "mean                    21.644310  \n",
       "std                     60.641811  \n",
       "min                      0.370000  \n",
       "25%                      4.000000  \n",
       "50%                      7.679245  \n",
       "75%                     16.086957  \n",
       "max                    703.000000  "
      ]
     },
     "execution_count": 68,
     "metadata": {},
     "output_type": "execute_result"
    }
   ],
   "source": [
    "non_optimal2.describe()"
   ]
  },
  {
   "cell_type": "code",
   "execution_count": 69,
   "id": "461fa952",
   "metadata": {},
   "outputs": [
    {
     "name": "stderr",
     "output_type": "stream",
     "text": [
      "C:\\Users\\oxana\\AppData\\Local\\Temp\\ipykernel_22072\\2573146449.py:2: SettingWithCopyWarning: \n",
      "A value is trying to be set on a copy of a slice from a DataFrame.\n",
      "Try using .loc[row_indexer,col_indexer] = value instead\n",
      "\n",
      "See the caveats in the documentation: https://pandas.pydata.org/pandas-docs/stable/user_guide/indexing.html#returning-a-view-versus-a-copy\n",
      "  non_optimal2['Затраты на доставку_оптимальные, руб'] = non_optimal2['Путь, км']*25\n"
     ]
    }
   ],
   "source": [
    "# С учетом внедрения легкового электротранспорта\n",
    "non_optimal2['Затраты на доставку_оптимальные, руб'] = non_optimal2['Путь, км']*25"
   ]
  },
  {
   "cell_type": "code",
   "execution_count": 70,
   "id": "7e711626",
   "metadata": {},
   "outputs": [
    {
     "data": {
      "text/html": [
       "<div>\n",
       "<style scoped>\n",
       "    .dataframe tbody tr th:only-of-type {\n",
       "        vertical-align: middle;\n",
       "    }\n",
       "\n",
       "    .dataframe tbody tr th {\n",
       "        vertical-align: top;\n",
       "    }\n",
       "\n",
       "    .dataframe thead th {\n",
       "        text-align: right;\n",
       "    }\n",
       "</style>\n",
       "<table border=\"1\" class=\"dataframe\">\n",
       "  <thead>\n",
       "    <tr style=\"text-align: right;\">\n",
       "      <th></th>\n",
       "      <th>Путь, км</th>\n",
       "      <th>Масса груза, кг</th>\n",
       "      <th>Терминал отгрузки</th>\n",
       "      <th>Категория груза</th>\n",
       "      <th>Гос номер</th>\n",
       "      <th>Макс. грузоподъёмность, кг</th>\n",
       "      <th>Стоимость пробега / км, руб.</th>\n",
       "      <th>Затраты на одну доставку, руб</th>\n",
       "      <th>Стоимость доставки за 1 кг</th>\n",
       "      <th>Затраты на доставку_оптимальные, руб</th>\n",
       "    </tr>\n",
       "  </thead>\n",
       "  <tbody>\n",
       "    <tr>\n",
       "      <th>55</th>\n",
       "      <td>4</td>\n",
       "      <td>19</td>\n",
       "      <td>Восток</td>\n",
       "      <td>Категория D</td>\n",
       "      <td>А678КС190</td>\n",
       "      <td>500</td>\n",
       "      <td>37</td>\n",
       "      <td>148</td>\n",
       "      <td>7.789474</td>\n",
       "      <td>100</td>\n",
       "    </tr>\n",
       "    <tr>\n",
       "      <th>77</th>\n",
       "      <td>1</td>\n",
       "      <td>46</td>\n",
       "      <td>Восток</td>\n",
       "      <td>Категория C</td>\n",
       "      <td>Х581МК77</td>\n",
       "      <td>500</td>\n",
       "      <td>37</td>\n",
       "      <td>37</td>\n",
       "      <td>0.804348</td>\n",
       "      <td>25</td>\n",
       "    </tr>\n",
       "    <tr>\n",
       "      <th>99</th>\n",
       "      <td>13</td>\n",
       "      <td>33</td>\n",
       "      <td>Восток</td>\n",
       "      <td>Категория C</td>\n",
       "      <td>О471СР799</td>\n",
       "      <td>500</td>\n",
       "      <td>37</td>\n",
       "      <td>481</td>\n",
       "      <td>14.575758</td>\n",
       "      <td>325</td>\n",
       "    </tr>\n",
       "    <tr>\n",
       "      <th>100</th>\n",
       "      <td>7</td>\n",
       "      <td>55</td>\n",
       "      <td>Юг</td>\n",
       "      <td>Категория C</td>\n",
       "      <td>Е450АА50</td>\n",
       "      <td>500</td>\n",
       "      <td>37</td>\n",
       "      <td>259</td>\n",
       "      <td>4.709091</td>\n",
       "      <td>175</td>\n",
       "    </tr>\n",
       "    <tr>\n",
       "      <th>109</th>\n",
       "      <td>5</td>\n",
       "      <td>98</td>\n",
       "      <td>Юг</td>\n",
       "      <td>Категория D</td>\n",
       "      <td>О865МТ150</td>\n",
       "      <td>500</td>\n",
       "      <td>37</td>\n",
       "      <td>185</td>\n",
       "      <td>1.887755</td>\n",
       "      <td>125</td>\n",
       "    </tr>\n",
       "    <tr>\n",
       "      <th>...</th>\n",
       "      <td>...</td>\n",
       "      <td>...</td>\n",
       "      <td>...</td>\n",
       "      <td>...</td>\n",
       "      <td>...</td>\n",
       "      <td>...</td>\n",
       "      <td>...</td>\n",
       "      <td>...</td>\n",
       "      <td>...</td>\n",
       "      <td>...</td>\n",
       "    </tr>\n",
       "    <tr>\n",
       "      <th>23609</th>\n",
       "      <td>9</td>\n",
       "      <td>6</td>\n",
       "      <td>Восток</td>\n",
       "      <td>Категория D</td>\n",
       "      <td>Е933НР777</td>\n",
       "      <td>500</td>\n",
       "      <td>37</td>\n",
       "      <td>333</td>\n",
       "      <td>55.500000</td>\n",
       "      <td>225</td>\n",
       "    </tr>\n",
       "    <tr>\n",
       "      <th>23612</th>\n",
       "      <td>3</td>\n",
       "      <td>57</td>\n",
       "      <td>Восток</td>\n",
       "      <td>Категория C</td>\n",
       "      <td>А550ММ977</td>\n",
       "      <td>500</td>\n",
       "      <td>37</td>\n",
       "      <td>111</td>\n",
       "      <td>1.947368</td>\n",
       "      <td>75</td>\n",
       "    </tr>\n",
       "    <tr>\n",
       "      <th>23618</th>\n",
       "      <td>9</td>\n",
       "      <td>27</td>\n",
       "      <td>Запад</td>\n",
       "      <td>Категория K</td>\n",
       "      <td>О839АК777</td>\n",
       "      <td>500</td>\n",
       "      <td>37</td>\n",
       "      <td>333</td>\n",
       "      <td>12.333333</td>\n",
       "      <td>225</td>\n",
       "    </tr>\n",
       "    <tr>\n",
       "      <th>23637</th>\n",
       "      <td>18</td>\n",
       "      <td>12</td>\n",
       "      <td>Запад</td>\n",
       "      <td>Категория K</td>\n",
       "      <td>Е450АА50</td>\n",
       "      <td>500</td>\n",
       "      <td>37</td>\n",
       "      <td>666</td>\n",
       "      <td>55.500000</td>\n",
       "      <td>450</td>\n",
       "    </tr>\n",
       "    <tr>\n",
       "      <th>23643</th>\n",
       "      <td>19</td>\n",
       "      <td>4</td>\n",
       "      <td>Запад</td>\n",
       "      <td>Категория K</td>\n",
       "      <td>А555УМ777</td>\n",
       "      <td>500</td>\n",
       "      <td>37</td>\n",
       "      <td>703</td>\n",
       "      <td>175.750000</td>\n",
       "      <td>475</td>\n",
       "    </tr>\n",
       "  </tbody>\n",
       "</table>\n",
       "<p>1221 rows × 10 columns</p>\n",
       "</div>"
      ],
      "text/plain": [
       "       Путь, км  Масса груза, кг Терминал отгрузки Категория груза  Гос номер  \\\n",
       "55            4               19            Восток     Категория D  А678КС190   \n",
       "77            1               46            Восток     Категория C   Х581МК77   \n",
       "99           13               33            Восток     Категория C  О471СР799   \n",
       "100           7               55                Юг     Категория C   Е450АА50   \n",
       "109           5               98                Юг     Категория D  О865МТ150   \n",
       "...         ...              ...               ...             ...        ...   \n",
       "23609         9                6            Восток     Категория D  Е933НР777   \n",
       "23612         3               57            Восток     Категория C  А550ММ977   \n",
       "23618         9               27             Запад     Категория K  О839АК777   \n",
       "23637        18               12             Запад     Категория K   Е450АА50   \n",
       "23643        19                4             Запад     Категория K  А555УМ777   \n",
       "\n",
       "       Макс. грузоподъёмность, кг  Стоимость пробега / км, руб.  \\\n",
       "55                            500                            37   \n",
       "77                            500                            37   \n",
       "99                            500                            37   \n",
       "100                           500                            37   \n",
       "109                           500                            37   \n",
       "...                           ...                           ...   \n",
       "23609                         500                            37   \n",
       "23612                         500                            37   \n",
       "23618                         500                            37   \n",
       "23637                         500                            37   \n",
       "23643                         500                            37   \n",
       "\n",
       "       Затраты на одну доставку, руб  Стоимость доставки за 1 кг  \\\n",
       "55                               148                    7.789474   \n",
       "77                                37                    0.804348   \n",
       "99                               481                   14.575758   \n",
       "100                              259                    4.709091   \n",
       "109                              185                    1.887755   \n",
       "...                              ...                         ...   \n",
       "23609                            333                   55.500000   \n",
       "23612                            111                    1.947368   \n",
       "23618                            333                   12.333333   \n",
       "23637                            666                   55.500000   \n",
       "23643                            703                  175.750000   \n",
       "\n",
       "       Затраты на доставку_оптимальные, руб  \n",
       "55                                      100  \n",
       "77                                       25  \n",
       "99                                      325  \n",
       "100                                     175  \n",
       "109                                     125  \n",
       "...                                     ...  \n",
       "23609                                   225  \n",
       "23612                                    75  \n",
       "23618                                   225  \n",
       "23637                                   450  \n",
       "23643                                   475  \n",
       "\n",
       "[1221 rows x 10 columns]"
      ]
     },
     "execution_count": 70,
     "metadata": {},
     "output_type": "execute_result"
    }
   ],
   "source": [
    "non_optimal2"
   ]
  },
  {
   "cell_type": "code",
   "execution_count": 71,
   "id": "1a61f626",
   "metadata": {},
   "outputs": [
    {
     "name": "stderr",
     "output_type": "stream",
     "text": [
      "C:\\Users\\oxana\\AppData\\Local\\Temp\\ipykernel_22072\\1440745705.py:1: SettingWithCopyWarning: \n",
      "A value is trying to be set on a copy of a slice from a DataFrame.\n",
      "Try using .loc[row_indexer,col_indexer] = value instead\n",
      "\n",
      "See the caveats in the documentation: https://pandas.pydata.org/pandas-docs/stable/user_guide/indexing.html#returning-a-view-versus-a-copy\n",
      "  non_optimal2['Переплата'] = non_optimal2['Затраты на одну доставку, руб'] - non_optimal2['Затраты на доставку_оптимальные, руб']\n"
     ]
    }
   ],
   "source": [
    "non_optimal2['Переплата'] = non_optimal2['Затраты на одну доставку, руб'] - non_optimal2['Затраты на доставку_оптимальные, руб']"
   ]
  },
  {
   "cell_type": "code",
   "execution_count": 73,
   "id": "292504fa",
   "metadata": {},
   "outputs": [],
   "source": [
    "groudep_non_optimal2 = non_optimal2.groupby('Терминал отгрузки')"
   ]
  },
  {
   "cell_type": "code",
   "execution_count": 74,
   "id": "959201f7",
   "metadata": {},
   "outputs": [
    {
     "data": {
      "text/plain": [
       "Терминал отгрузки\n",
       "Восток    618\n",
       "Запад      63\n",
       "Север     109\n",
       "Юг        431\n",
       "Name: Терминал отгрузки, dtype: int64"
      ]
     },
     "execution_count": 74,
     "metadata": {},
     "output_type": "execute_result"
    }
   ],
   "source": [
    "groudep_non_optimal2['Терминал отгрузки'].count()"
   ]
  },
  {
   "cell_type": "code",
   "execution_count": 76,
   "id": "bb3f599b",
   "metadata": {},
   "outputs": [
    {
     "data": {
      "text/plain": [
       "132036"
      ]
     },
     "execution_count": 76,
     "metadata": {},
     "output_type": "execute_result"
    }
   ],
   "source": [
    "non_optimal2[(non_optimal2['Терминал отгрузки'] == 'Восток')|(non_optimal2['Терминал отгрузки'] == 'Юг')].Переплата.sum()"
   ]
  }
 ],
 "metadata": {
  "kernelspec": {
   "display_name": "Python 3 (ipykernel)",
   "language": "python",
   "name": "python3"
  },
  "language_info": {
   "codemirror_mode": {
    "name": "ipython",
    "version": 3
   },
   "file_extension": ".py",
   "mimetype": "text/x-python",
   "name": "python",
   "nbconvert_exporter": "python",
   "pygments_lexer": "ipython3",
   "version": "3.9.12"
  }
 },
 "nbformat": 4,
 "nbformat_minor": 5
}
